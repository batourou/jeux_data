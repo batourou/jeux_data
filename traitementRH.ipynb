{
 "cells": [
  {
   "cell_type": "code",
   "execution_count": 4,
   "metadata": {},
   "outputs": [],
   "source": [
    "import pandas as pd\n",
    "import numpy as np\n",
    "import matplotlib.pyplot as plt"
   ]
  },
  {
   "cell_type": "markdown",
   "metadata": {},
   "source": [
    "\n",
    "plt.bar(agg_df_vt['pays'],agg_df_vt['prix'])"
   ]
  },
  {
   "cell_type": "code",
   "execution_count": 5,
   "metadata": {},
   "outputs": [
    {
     "data": {
      "application/vnd.microsoft.datawrangler.viewer.v0+json": {
       "columns": [
        {
         "name": "index",
         "rawType": "int64",
         "type": "integer"
        },
        {
         "name": "identifiant",
         "rawType": "int64",
         "type": "integer"
        },
        {
         "name": "email",
         "rawType": "object",
         "type": "string"
        },
        {
         "name": "nom",
         "rawType": "object",
         "type": "string"
        },
        {
         "name": "genre",
         "rawType": "object",
         "type": "string"
        }
       ],
       "conversionMethod": "pd.DataFrame",
       "ref": "7dcf4040-92f9-4ad5-901f-c17dca5c621f",
       "rows": [
        [
         "0",
         "0",
         "LaurentDagenais@rhyta.com",
         "Laurent Dagenais",
         "M"
        ],
        [
         "1",
         "1",
         "GuyMarois@fleckens.hu",
         "Guy Marois",
         "M"
        ],
        [
         "2",
         "2",
         "BeaufortLesage@einrot.com",
         "Beaufort Lesage",
         "M"
        ],
        [
         "3",
         "3",
         "RussellDurand@armyspy.com",
         "Russell Durand",
         "M"
        ],
        [
         "4",
         "4",
         "AlexisRiel@rhyta.com",
         "Alexis Riel",
         "M"
        ],
        [
         "5",
         "5",
         "LeonLapresse@cuvox.de",
         "Leon Lapresse",
         "M"
        ],
        [
         "6",
         "6",
         "OrvilleRouthier@gustr.com",
         "Orville Routhier",
         "M"
        ],
        [
         "7",
         "7",
         "AgramantPepin@dayrep.com",
         "Agramant Pepin",
         "M"
        ],
        [
         "8",
         "8",
         "AiglentinaLambert@fleckens.hu",
         "Aiglentina Lambert",
         "F"
        ],
        [
         "9",
         "9",
         "TheodoreClavet@teleworm.us",
         "Theodore Clavet",
         "M"
        ],
        [
         "10",
         "10",
         "ByronLefebvre@jourrapide.com",
         "Byron Lefebvre",
         "M"
        ],
        [
         "11",
         "11",
         "FlorusDevoe@einrot.com",
         "Florus Devoe",
         "M"
        ],
        [
         "12",
         "12",
         "NormandArsenault@armyspy.com",
         "Normand Arsenault",
         "M"
        ],
        [
         "13",
         "13",
         "AcelineHughes@jourrapide.com",
         "Aceline Hughes",
         "F"
        ],
        [
         "14",
         "14",
         "GastonBrisette@superrito.com",
         "Gaston Brisette",
         "M"
        ],
        [
         "15",
         "15",
         "AgateGrandbois@gustr.com",
         "Agate Grandbois",
         "F"
        ],
        [
         "16",
         "16",
         "AgricanFoucault@jourrapide.com",
         "Agrican Foucault",
         "M"
        ],
        [
         "17",
         "17",
         "PrunellaJosseaume@armyspy.com",
         "Prunella Josseaume",
         "F"
        ],
        [
         "18",
         "18",
         "YseultCharest@armyspy.com",
         "Yseult Charest",
         "F"
        ],
        [
         "19",
         "19",
         "DorotheeAupry@cuvox.de",
         "Dorothee Aupry",
         "F"
        ],
        [
         "20",
         "20",
         "AmauryReault@teleworm.us",
         "Amaury Reault",
         "M"
        ],
        [
         "21",
         "21",
         "GillesBeauchamps@superrito.com",
         "Gilles Beauchamps",
         "M"
        ],
        [
         "22",
         "22",
         "FranckDumont@gustr.com",
         "Franck Dumont",
         "M"
        ],
        [
         "23",
         "23",
         "DelmareLHeureux@dayrep.com",
         "Delmare L Heureux",
         "F"
        ],
        [
         "24",
         "24",
         "AlphonseCantin@cuvox.de",
         "Alphonse Cantin",
         "M"
        ],
        [
         "25",
         "25",
         "BlondelleRochon@gustr.com",
         "Blondelle Rochon",
         "F"
        ],
        [
         "26",
         "26",
         "SavilleBernard@armyspy.com",
         "Saville Bernard",
         "M"
        ],
        [
         "27",
         "27",
         "AnnetteJolicoeur@armyspy.com",
         "Annette Jolicoeur",
         "F"
        ],
        [
         "28",
         "28",
         "BradamateMichel@armyspy.com",
         "Bradamate Michel",
         "F"
        ],
        [
         "29",
         "29",
         "HilaireFrappier@armyspy.com",
         "Hilaire Frappier",
         "F"
        ],
        [
         "30",
         "30",
         "MarieBriard@gustr.com",
         "Marie Briard",
         "F"
        ],
        [
         "31",
         "31",
         "MadeleineBatard@superrito.com",
         "Madeleine Batard",
         "F"
        ],
        [
         "32",
         "32",
         "ArberGarcia@dayrep.com",
         "Arber Garcia",
         "M"
        ],
        [
         "33",
         "33",
         "SaberViens@superrito.com",
         "Saber Viens",
         "M"
        ],
        [
         "34",
         "34",
         "ArnaudDubois@rhyta.com",
         "Arnaud Dubois",
         "M"
        ],
        [
         "35",
         "35",
         "PryorBeauchamp@dayrep.com",
         "Pryor Beauchamp",
         "M"
        ],
        [
         "36",
         "36",
         "AlphonsePotvin@armyspy.com",
         "Alphonse Potvin",
         "M"
        ],
        [
         "37",
         "37",
         "FitzLafontaine@dayrep.com",
         "Fitz Lafontaine",
         "M"
        ],
        [
         "38",
         "38",
         "DelmareLamothe@gustr.com",
         "Delmare Lamothe",
         "F"
        ],
        [
         "39",
         "39",
         "DaisiBoileau@jourrapide.com",
         "Daisi Boileau",
         "F"
        ],
        [
         "40",
         "40",
         "SomerPaquette@jourrapide.com",
         "Somer Paquette",
         "M"
        ],
        [
         "41",
         "41",
         "OlivieCourtemanche@armyspy.com",
         "Olivie Courtemanche",
         "F"
        ],
        [
         "42",
         "42",
         "GermainHughes@teleworm.us",
         "Germain Hughes",
         "M"
        ],
        [
         "43",
         "43",
         "MorganaBellemare@superrito.com",
         "Morgana Bellemare",
         "F"
        ],
        [
         "44",
         "44",
         "MerciMorin@gustr.com",
         "Merci Morin",
         "F"
        ],
        [
         "45",
         "45",
         "VerneyBedard@dayrep.com",
         "Verney Bedard",
         "M"
        ],
        [
         "46",
         "46",
         "IgnaceAudibert@armyspy.com",
         "Ignace Audibert",
         "M"
        ],
        [
         "47",
         "47",
         "FranckBinet@superrito.com",
         "Franck Binet",
         "M"
        ],
        [
         "48",
         "48",
         "SumnerRocheleau@einrot.com",
         "Sumner Rocheleau",
         "M"
        ],
        [
         "49",
         "49",
         "AubertPatel@armyspy.com",
         "Aubert Patel",
         "M"
        ]
       ],
       "shape": {
        "columns": 4,
        "rows": 228
       }
      },
      "text/html": [
       "<div>\n",
       "<style scoped>\n",
       "    .dataframe tbody tr th:only-of-type {\n",
       "        vertical-align: middle;\n",
       "    }\n",
       "\n",
       "    .dataframe tbody tr th {\n",
       "        vertical-align: top;\n",
       "    }\n",
       "\n",
       "    .dataframe thead th {\n",
       "        text-align: right;\n",
       "    }\n",
       "</style>\n",
       "<table border=\"1\" class=\"dataframe\">\n",
       "  <thead>\n",
       "    <tr style=\"text-align: right;\">\n",
       "      <th></th>\n",
       "      <th>identifiant</th>\n",
       "      <th>email</th>\n",
       "      <th>nom</th>\n",
       "      <th>genre</th>\n",
       "    </tr>\n",
       "  </thead>\n",
       "  <tbody>\n",
       "    <tr>\n",
       "      <th>0</th>\n",
       "      <td>0</td>\n",
       "      <td>LaurentDagenais@rhyta.com</td>\n",
       "      <td>Laurent Dagenais</td>\n",
       "      <td>M</td>\n",
       "    </tr>\n",
       "    <tr>\n",
       "      <th>1</th>\n",
       "      <td>1</td>\n",
       "      <td>GuyMarois@fleckens.hu</td>\n",
       "      <td>Guy Marois</td>\n",
       "      <td>M</td>\n",
       "    </tr>\n",
       "    <tr>\n",
       "      <th>2</th>\n",
       "      <td>2</td>\n",
       "      <td>BeaufortLesage@einrot.com</td>\n",
       "      <td>Beaufort Lesage</td>\n",
       "      <td>M</td>\n",
       "    </tr>\n",
       "    <tr>\n",
       "      <th>3</th>\n",
       "      <td>3</td>\n",
       "      <td>RussellDurand@armyspy.com</td>\n",
       "      <td>Russell Durand</td>\n",
       "      <td>M</td>\n",
       "    </tr>\n",
       "    <tr>\n",
       "      <th>4</th>\n",
       "      <td>4</td>\n",
       "      <td>AlexisRiel@rhyta.com</td>\n",
       "      <td>Alexis Riel</td>\n",
       "      <td>M</td>\n",
       "    </tr>\n",
       "    <tr>\n",
       "      <th>...</th>\n",
       "      <td>...</td>\n",
       "      <td>...</td>\n",
       "      <td>...</td>\n",
       "      <td>...</td>\n",
       "    </tr>\n",
       "    <tr>\n",
       "      <th>223</th>\n",
       "      <td>223</td>\n",
       "      <td>ClaudeDandonneau@jourrapide.com</td>\n",
       "      <td>Claude Dandonneau</td>\n",
       "      <td>F</td>\n",
       "    </tr>\n",
       "    <tr>\n",
       "      <th>224</th>\n",
       "      <td>224</td>\n",
       "      <td>ApollineMichaud@superrito.com</td>\n",
       "      <td>Apolline Michaud</td>\n",
       "      <td>F</td>\n",
       "    </tr>\n",
       "    <tr>\n",
       "      <th>225</th>\n",
       "      <td>225</td>\n",
       "      <td>PascalineBeaudry@rhyta.com</td>\n",
       "      <td>Pascaline Beaudry</td>\n",
       "      <td>F</td>\n",
       "    </tr>\n",
       "    <tr>\n",
       "      <th>226</th>\n",
       "      <td>226</td>\n",
       "      <td>FleurCaouette@jourrapide.com</td>\n",
       "      <td>Fleur Caouette</td>\n",
       "      <td>F</td>\n",
       "    </tr>\n",
       "    <tr>\n",
       "      <th>227</th>\n",
       "      <td>227</td>\n",
       "      <td>FrancisMasse@jourrapide.com</td>\n",
       "      <td>Francis Masse</td>\n",
       "      <td>M</td>\n",
       "    </tr>\n",
       "  </tbody>\n",
       "</table>\n",
       "<p>228 rows × 4 columns</p>\n",
       "</div>"
      ],
      "text/plain": [
       "     identifiant                            email                nom genre\n",
       "0              0        LaurentDagenais@rhyta.com   Laurent Dagenais     M\n",
       "1              1            GuyMarois@fleckens.hu         Guy Marois     M\n",
       "2              2        BeaufortLesage@einrot.com    Beaufort Lesage     M\n",
       "3              3        RussellDurand@armyspy.com     Russell Durand     M\n",
       "4              4             AlexisRiel@rhyta.com        Alexis Riel     M\n",
       "..           ...                              ...                ...   ...\n",
       "223          223  ClaudeDandonneau@jourrapide.com  Claude Dandonneau     F\n",
       "224          224    ApollineMichaud@superrito.com   Apolline Michaud     F\n",
       "225          225       PascalineBeaudry@rhyta.com  Pascaline Beaudry     F\n",
       "226          226     FleurCaouette@jourrapide.com     Fleur Caouette     F\n",
       "227          227      FrancisMasse@jourrapide.com      Francis Masse     M\n",
       "\n",
       "[228 rows x 4 columns]"
      ]
     },
     "metadata": {},
     "output_type": "display_data"
    }
   ],
   "source": [
    "datajson = pd.read_excel(\"employer.xlsx\")\n",
    "display(datajson)"
   ]
  },
  {
   "cell_type": "code",
   "execution_count": 6,
   "metadata": {},
   "outputs": [],
   "source": [
    "genredata = datajson[\"genre\"]"
   ]
  },
  {
   "cell_type": "code",
   "execution_count": 7,
   "metadata": {},
   "outputs": [
    {
     "data": {
      "application/vnd.microsoft.datawrangler.viewer.v0+json": {
       "columns": [
        {
         "name": "index",
         "rawType": "int64",
         "type": "integer"
        },
        {
         "name": "email",
         "rawType": "object",
         "type": "string"
        },
        {
         "name": "nom",
         "rawType": "object",
         "type": "string"
        }
       ],
       "conversionMethod": "pd.DataFrame",
       "ref": "db66cc59-6a9b-40eb-a722-4ed14c74ce8f",
       "rows": [
        [
         "0",
         "LaurentDagenais@rhyta.com",
         "Laurent Dagenais"
        ],
        [
         "1",
         "GuyMarois@fleckens.hu",
         "Guy Marois"
        ],
        [
         "2",
         "BeaufortLesage@einrot.com",
         "Beaufort Lesage"
        ],
        [
         "3",
         "RussellDurand@armyspy.com",
         "Russell Durand"
        ],
        [
         "4",
         "AlexisRiel@rhyta.com",
         "Alexis Riel"
        ],
        [
         "5",
         "LeonLapresse@cuvox.de",
         "Leon Lapresse"
        ],
        [
         "6",
         "OrvilleRouthier@gustr.com",
         "Orville Routhier"
        ],
        [
         "7",
         "AgramantPepin@dayrep.com",
         "Agramant Pepin"
        ],
        [
         "8",
         "AiglentinaLambert@fleckens.hu",
         "Aiglentina Lambert"
        ],
        [
         "9",
         "TheodoreClavet@teleworm.us",
         "Theodore Clavet"
        ],
        [
         "10",
         "ByronLefebvre@jourrapide.com",
         "Byron Lefebvre"
        ],
        [
         "11",
         "FlorusDevoe@einrot.com",
         "Florus Devoe"
        ],
        [
         "12",
         "NormandArsenault@armyspy.com",
         "Normand Arsenault"
        ],
        [
         "13",
         "AcelineHughes@jourrapide.com",
         "Aceline Hughes"
        ],
        [
         "14",
         "GastonBrisette@superrito.com",
         "Gaston Brisette"
        ],
        [
         "15",
         "AgateGrandbois@gustr.com",
         "Agate Grandbois"
        ],
        [
         "16",
         "AgricanFoucault@jourrapide.com",
         "Agrican Foucault"
        ],
        [
         "17",
         "PrunellaJosseaume@armyspy.com",
         "Prunella Josseaume"
        ],
        [
         "18",
         "YseultCharest@armyspy.com",
         "Yseult Charest"
        ],
        [
         "19",
         "DorotheeAupry@cuvox.de",
         "Dorothee Aupry"
        ],
        [
         "20",
         "AmauryReault@teleworm.us",
         "Amaury Reault"
        ],
        [
         "21",
         "GillesBeauchamps@superrito.com",
         "Gilles Beauchamps"
        ],
        [
         "22",
         "FranckDumont@gustr.com",
         "Franck Dumont"
        ],
        [
         "23",
         "DelmareLHeureux@dayrep.com",
         "Delmare L Heureux"
        ],
        [
         "24",
         "AlphonseCantin@cuvox.de",
         "Alphonse Cantin"
        ],
        [
         "25",
         "BlondelleRochon@gustr.com",
         "Blondelle Rochon"
        ],
        [
         "26",
         "SavilleBernard@armyspy.com",
         "Saville Bernard"
        ],
        [
         "27",
         "AnnetteJolicoeur@armyspy.com",
         "Annette Jolicoeur"
        ],
        [
         "28",
         "BradamateMichel@armyspy.com",
         "Bradamate Michel"
        ],
        [
         "29",
         "HilaireFrappier@armyspy.com",
         "Hilaire Frappier"
        ],
        [
         "30",
         "MarieBriard@gustr.com",
         "Marie Briard"
        ],
        [
         "31",
         "MadeleineBatard@superrito.com",
         "Madeleine Batard"
        ],
        [
         "32",
         "ArberGarcia@dayrep.com",
         "Arber Garcia"
        ],
        [
         "33",
         "SaberViens@superrito.com",
         "Saber Viens"
        ],
        [
         "34",
         "ArnaudDubois@rhyta.com",
         "Arnaud Dubois"
        ],
        [
         "35",
         "PryorBeauchamp@dayrep.com",
         "Pryor Beauchamp"
        ],
        [
         "36",
         "AlphonsePotvin@armyspy.com",
         "Alphonse Potvin"
        ],
        [
         "37",
         "FitzLafontaine@dayrep.com",
         "Fitz Lafontaine"
        ],
        [
         "38",
         "DelmareLamothe@gustr.com",
         "Delmare Lamothe"
        ],
        [
         "39",
         "DaisiBoileau@jourrapide.com",
         "Daisi Boileau"
        ],
        [
         "40",
         "SomerPaquette@jourrapide.com",
         "Somer Paquette"
        ],
        [
         "41",
         "OlivieCourtemanche@armyspy.com",
         "Olivie Courtemanche"
        ],
        [
         "42",
         "GermainHughes@teleworm.us",
         "Germain Hughes"
        ],
        [
         "43",
         "MorganaBellemare@superrito.com",
         "Morgana Bellemare"
        ],
        [
         "44",
         "MerciMorin@gustr.com",
         "Merci Morin"
        ],
        [
         "45",
         "VerneyBedard@dayrep.com",
         "Verney Bedard"
        ],
        [
         "46",
         "IgnaceAudibert@armyspy.com",
         "Ignace Audibert"
        ],
        [
         "47",
         "FranckBinet@superrito.com",
         "Franck Binet"
        ],
        [
         "48",
         "SumnerRocheleau@einrot.com",
         "Sumner Rocheleau"
        ],
        [
         "49",
         "AubertPatel@armyspy.com",
         "Aubert Patel"
        ]
       ],
       "shape": {
        "columns": 2,
        "rows": 228
       }
      },
      "text/html": [
       "<div>\n",
       "<style scoped>\n",
       "    .dataframe tbody tr th:only-of-type {\n",
       "        vertical-align: middle;\n",
       "    }\n",
       "\n",
       "    .dataframe tbody tr th {\n",
       "        vertical-align: top;\n",
       "    }\n",
       "\n",
       "    .dataframe thead th {\n",
       "        text-align: right;\n",
       "    }\n",
       "</style>\n",
       "<table border=\"1\" class=\"dataframe\">\n",
       "  <thead>\n",
       "    <tr style=\"text-align: right;\">\n",
       "      <th></th>\n",
       "      <th>email</th>\n",
       "      <th>nom</th>\n",
       "    </tr>\n",
       "  </thead>\n",
       "  <tbody>\n",
       "    <tr>\n",
       "      <th>0</th>\n",
       "      <td>LaurentDagenais@rhyta.com</td>\n",
       "      <td>Laurent Dagenais</td>\n",
       "    </tr>\n",
       "    <tr>\n",
       "      <th>1</th>\n",
       "      <td>GuyMarois@fleckens.hu</td>\n",
       "      <td>Guy Marois</td>\n",
       "    </tr>\n",
       "    <tr>\n",
       "      <th>2</th>\n",
       "      <td>BeaufortLesage@einrot.com</td>\n",
       "      <td>Beaufort Lesage</td>\n",
       "    </tr>\n",
       "    <tr>\n",
       "      <th>3</th>\n",
       "      <td>RussellDurand@armyspy.com</td>\n",
       "      <td>Russell Durand</td>\n",
       "    </tr>\n",
       "    <tr>\n",
       "      <th>4</th>\n",
       "      <td>AlexisRiel@rhyta.com</td>\n",
       "      <td>Alexis Riel</td>\n",
       "    </tr>\n",
       "    <tr>\n",
       "      <th>...</th>\n",
       "      <td>...</td>\n",
       "      <td>...</td>\n",
       "    </tr>\n",
       "    <tr>\n",
       "      <th>223</th>\n",
       "      <td>ClaudeDandonneau@jourrapide.com</td>\n",
       "      <td>Claude Dandonneau</td>\n",
       "    </tr>\n",
       "    <tr>\n",
       "      <th>224</th>\n",
       "      <td>ApollineMichaud@superrito.com</td>\n",
       "      <td>Apolline Michaud</td>\n",
       "    </tr>\n",
       "    <tr>\n",
       "      <th>225</th>\n",
       "      <td>PascalineBeaudry@rhyta.com</td>\n",
       "      <td>Pascaline Beaudry</td>\n",
       "    </tr>\n",
       "    <tr>\n",
       "      <th>226</th>\n",
       "      <td>FleurCaouette@jourrapide.com</td>\n",
       "      <td>Fleur Caouette</td>\n",
       "    </tr>\n",
       "    <tr>\n",
       "      <th>227</th>\n",
       "      <td>FrancisMasse@jourrapide.com</td>\n",
       "      <td>Francis Masse</td>\n",
       "    </tr>\n",
       "  </tbody>\n",
       "</table>\n",
       "<p>228 rows × 2 columns</p>\n",
       "</div>"
      ],
      "text/plain": [
       "                               email                nom\n",
       "0          LaurentDagenais@rhyta.com   Laurent Dagenais\n",
       "1              GuyMarois@fleckens.hu         Guy Marois\n",
       "2          BeaufortLesage@einrot.com    Beaufort Lesage\n",
       "3          RussellDurand@armyspy.com     Russell Durand\n",
       "4               AlexisRiel@rhyta.com        Alexis Riel\n",
       "..                               ...                ...\n",
       "223  ClaudeDandonneau@jourrapide.com  Claude Dandonneau\n",
       "224    ApollineMichaud@superrito.com   Apolline Michaud\n",
       "225       PascalineBeaudry@rhyta.com  Pascaline Beaudry\n",
       "226     FleurCaouette@jourrapide.com     Fleur Caouette\n",
       "227      FrancisMasse@jourrapide.com      Francis Masse\n",
       "\n",
       "[228 rows x 2 columns]"
      ]
     },
     "metadata": {},
     "output_type": "display_data"
    }
   ],
   "source": [
    "dataemailetnom = datajson[['email','nom']]\n",
    "display(dataemailetnom)"
   ]
  },
  {
   "cell_type": "code",
   "execution_count": 8,
   "metadata": {},
   "outputs": [
    {
     "data": {
      "application/vnd.microsoft.datawrangler.viewer.v0+json": {
       "columns": [
        {
         "name": "index",
         "rawType": "int64",
         "type": "integer"
        },
        {
         "name": "identifiant",
         "rawType": "int64",
         "type": "integer"
        },
        {
         "name": "email",
         "rawType": "object",
         "type": "string"
        },
        {
         "name": "nom",
         "rawType": "object",
         "type": "string"
        },
        {
         "name": "genre",
         "rawType": "object",
         "type": "string"
        }
       ],
       "conversionMethod": "pd.DataFrame",
       "ref": "e590a4a2-29a8-4384-a073-ea1600e874cb",
       "rows": [
        [
         "53",
         "53",
         "ZurieTheberge@gustr.com",
         "Zurie Theberge",
         "F"
        ],
        [
         "112",
         "112",
         "ZoeLeclair@gustr.com",
         "Zoe Leclair",
         "F"
        ],
        [
         "64",
         "64",
         "YvetteDAvis@cuvox.de",
         "Yvette D Avis",
         "F"
        ],
        [
         "18",
         "18",
         "YseultCharest@armyspy.com",
         "Yseult Charest",
         "F"
        ],
        [
         "158",
         "158",
         "YoletteMoreau@dayrep.com",
         "Yolette Moreau",
         "F"
        ],
        [
         "214",
         "214",
         "YoletteLanoie@dayrep.com",
         "Yolette Lanoie",
         "F"
        ],
        [
         "168",
         "168",
         "VoletaAdler@armyspy.com",
         "Voleta Adler",
         "F"
        ],
        [
         "71",
         "71",
         "ViolletteArnoux@cuvox.de",
         "Viollette Arnoux",
         "F"
        ],
        [
         "63",
         "63",
         "SylvieDuranseau@einrot.com",
         "Sylvie Duranseau",
         "F"
        ],
        [
         "99",
         "99",
         "SydneyGuibord@superrito.com",
         "Sydney Guibord",
         "F"
        ],
        [
         "65",
         "65",
         "SolaineLecuyer@dayrep.com",
         "Solaine Lecuyer",
         "F"
        ],
        [
         "185",
         "185",
         "SolaineLabrecque@fleckens.hu",
         "Solaine Labrecque",
         "F"
        ],
        [
         "72",
         "72",
         "SlainieGregoire@cuvox.de",
         "Slainie Gregoire",
         "F"
        ],
        [
         "198",
         "198",
         "SimoneSt-Pierre@jourrapide.com",
         "Simone St- Pierre",
         "F"
        ],
        [
         "125",
         "125",
         "SibylaLizotte@cuvox.de",
         "Sibyla Lizotte",
         "F"
        ],
        [
         "57",
         "57",
         "SearlaitCote@superrito.com",
         "Searlait Cote",
         "F"
        ],
        [
         "95",
         "95",
         "RachellePlaisance@armyspy.com",
         "Rachelle Plaisance",
         "F"
        ],
        [
         "17",
         "17",
         "PrunellaJosseaume@armyspy.com",
         "Prunella Josseaume",
         "F"
        ],
        [
         "113",
         "113",
         "PhillipaPerrault@einrot.com",
         "Phillipa Perrault",
         "F"
        ],
        [
         "213",
         "213",
         "PauletteLemaitre@fleckens.hu",
         "Paulette Lemaitre",
         "F"
        ],
        [
         "67",
         "67",
         "PatienceCharbonneau@jourrapide.com",
         "Patience Charbonneau",
         "F"
        ],
        [
         "225",
         "225",
         "PascalineBeaudry@rhyta.com",
         "Pascaline Beaudry",
         "F"
        ],
        [
         "164",
         "164",
         "OrielMiron@jourrapide.com",
         "Oriel Miron",
         "F"
        ],
        [
         "83",
         "83",
         "OlivieNorbert@cuvox.de",
         "Olivie Norbert",
         "F"
        ],
        [
         "41",
         "41",
         "OlivieCourtemanche@armyspy.com",
         "Olivie Courtemanche",
         "F"
        ],
        [
         "61",
         "61",
         "OdeletteCharron@superrito.com",
         "Odelette Charron",
         "F"
        ],
        [
         "207",
         "207",
         "NoemiLaisne@rhyta.com",
         "Noemi Laisne",
         "F"
        ],
        [
         "195",
         "195",
         "NinetteAdler@superrito.com",
         "Ninette Adler",
         "F"
        ],
        [
         "151",
         "151",
         "NathalieCormier@cuvox.de",
         "Nathalie Cormier",
         "F"
        ],
        [
         "98",
         "98",
         "NatalieLeveille@rhyta.com",
         "Natalie Leveille",
         "F"
        ],
        [
         "80",
         "80",
         "NadineMasson@teleworm.us",
         "Nadine Masson",
         "F"
        ],
        [
         "69",
         "69",
         "MusetteProvencher@armyspy.com",
         "Musette Provencher",
         "F"
        ],
        [
         "70",
         "70",
         "MorganaMarchesseault@teleworm.us",
         "Morgana Marchesseault",
         "F"
        ],
        [
         "43",
         "43",
         "MorganaBellemare@superrito.com",
         "Morgana Bellemare",
         "F"
        ],
        [
         "142",
         "142",
         "MireilleParenteau@superrito.com",
         "Mireille Parenteau",
         "F"
        ],
        [
         "218",
         "218",
         "MinetteRoy@fleckens.hu",
         "Minette Roy",
         "F"
        ],
        [
         "44",
         "44",
         "MerciMorin@gustr.com",
         "Merci Morin",
         "F"
        ],
        [
         "132",
         "132",
         "MathildeSansouci@superrito.com",
         "Mathilde Sansouci",
         "F"
        ],
        [
         "210",
         "210",
         "MartheQuerry@einrot.com",
         "Marthe Querry",
         "F"
        ],
        [
         "30",
         "30",
         "MarieBriard@gustr.com",
         "Marie Briard",
         "F"
        ],
        [
         "161",
         "161",
         "ManonDastous@armyspy.com",
         "Manon Dastous",
         "F"
        ],
        [
         "51",
         "51",
         "MadeleineLeveille@dayrep.com",
         "Madeleine Leveille",
         "F"
        ],
        [
         "31",
         "31",
         "MadeleineBatard@superrito.com",
         "Madeleine Batard",
         "F"
        ],
        [
         "215",
         "215",
         "LucilleBaron@superrito.com",
         "Lucille Baron",
         "F"
        ],
        [
         "190",
         "190",
         "LotyeJodion@fleckens.hu",
         "Lotye Jodion",
         "F"
        ],
        [
         "200",
         "200",
         "LorrainePaulet@einrot.com",
         "Lorraine Paulet",
         "F"
        ],
        [
         "165",
         "165",
         "LianeLaGarde@cuvox.de",
         "Liane La Garde",
         "F"
        ],
        [
         "56",
         "56",
         "LeoneCrete@armyspy.com",
         "Leone Crete",
         "F"
        ],
        [
         "193",
         "193",
         "LealaLemelin@dayrep.com",
         "Leala Lemelin",
         "F"
        ],
        [
         "97",
         "97",
         "LaureBondy@superrito.com",
         "Laure Bondy",
         "F"
        ]
       ],
       "shape": {
        "columns": 4,
        "rows": 228
       }
      },
      "text/html": [
       "<div>\n",
       "<style scoped>\n",
       "    .dataframe tbody tr th:only-of-type {\n",
       "        vertical-align: middle;\n",
       "    }\n",
       "\n",
       "    .dataframe tbody tr th {\n",
       "        vertical-align: top;\n",
       "    }\n",
       "\n",
       "    .dataframe thead th {\n",
       "        text-align: right;\n",
       "    }\n",
       "</style>\n",
       "<table border=\"1\" class=\"dataframe\">\n",
       "  <thead>\n",
       "    <tr style=\"text-align: right;\">\n",
       "      <th></th>\n",
       "      <th>identifiant</th>\n",
       "      <th>email</th>\n",
       "      <th>nom</th>\n",
       "      <th>genre</th>\n",
       "    </tr>\n",
       "  </thead>\n",
       "  <tbody>\n",
       "    <tr>\n",
       "      <th>53</th>\n",
       "      <td>53</td>\n",
       "      <td>ZurieTheberge@gustr.com</td>\n",
       "      <td>Zurie Theberge</td>\n",
       "      <td>F</td>\n",
       "    </tr>\n",
       "    <tr>\n",
       "      <th>112</th>\n",
       "      <td>112</td>\n",
       "      <td>ZoeLeclair@gustr.com</td>\n",
       "      <td>Zoe Leclair</td>\n",
       "      <td>F</td>\n",
       "    </tr>\n",
       "    <tr>\n",
       "      <th>64</th>\n",
       "      <td>64</td>\n",
       "      <td>YvetteDAvis@cuvox.de</td>\n",
       "      <td>Yvette D Avis</td>\n",
       "      <td>F</td>\n",
       "    </tr>\n",
       "    <tr>\n",
       "      <th>18</th>\n",
       "      <td>18</td>\n",
       "      <td>YseultCharest@armyspy.com</td>\n",
       "      <td>Yseult Charest</td>\n",
       "      <td>F</td>\n",
       "    </tr>\n",
       "    <tr>\n",
       "      <th>158</th>\n",
       "      <td>158</td>\n",
       "      <td>YoletteMoreau@dayrep.com</td>\n",
       "      <td>Yolette Moreau</td>\n",
       "      <td>F</td>\n",
       "    </tr>\n",
       "    <tr>\n",
       "      <th>...</th>\n",
       "      <td>...</td>\n",
       "      <td>...</td>\n",
       "      <td>...</td>\n",
       "      <td>...</td>\n",
       "    </tr>\n",
       "    <tr>\n",
       "      <th>62</th>\n",
       "      <td>62</td>\n",
       "      <td>AleronBerard@rhyta.com</td>\n",
       "      <td>Aleron Berard</td>\n",
       "      <td>M</td>\n",
       "    </tr>\n",
       "    <tr>\n",
       "      <th>204</th>\n",
       "      <td>204</td>\n",
       "      <td>AimeMarseau@dayrep.com</td>\n",
       "      <td>Aime Marseau</td>\n",
       "      <td>M</td>\n",
       "    </tr>\n",
       "    <tr>\n",
       "      <th>16</th>\n",
       "      <td>16</td>\n",
       "      <td>AgricanFoucault@jourrapide.com</td>\n",
       "      <td>Agrican Foucault</td>\n",
       "      <td>M</td>\n",
       "    </tr>\n",
       "    <tr>\n",
       "      <th>7</th>\n",
       "      <td>7</td>\n",
       "      <td>AgramantPepin@dayrep.com</td>\n",
       "      <td>Agramant Pepin</td>\n",
       "      <td>M</td>\n",
       "    </tr>\n",
       "    <tr>\n",
       "      <th>202</th>\n",
       "      <td>202</td>\n",
       "      <td>AgramantGrandpre@rhyta.com</td>\n",
       "      <td>Agramant Grandpre</td>\n",
       "      <td>M</td>\n",
       "    </tr>\n",
       "  </tbody>\n",
       "</table>\n",
       "<p>228 rows × 4 columns</p>\n",
       "</div>"
      ],
      "text/plain": [
       "     identifiant                           email                nom genre\n",
       "53            53         ZurieTheberge@gustr.com     Zurie Theberge     F\n",
       "112          112            ZoeLeclair@gustr.com        Zoe Leclair     F\n",
       "64            64            YvetteDAvis@cuvox.de      Yvette D Avis     F\n",
       "18            18       YseultCharest@armyspy.com     Yseult Charest     F\n",
       "158          158        YoletteMoreau@dayrep.com     Yolette Moreau     F\n",
       "..           ...                             ...                ...   ...\n",
       "62            62          AleronBerard@rhyta.com      Aleron Berard     M\n",
       "204          204          AimeMarseau@dayrep.com       Aime Marseau     M\n",
       "16            16  AgricanFoucault@jourrapide.com   Agrican Foucault     M\n",
       "7              7        AgramantPepin@dayrep.com     Agramant Pepin     M\n",
       "202          202      AgramantGrandpre@rhyta.com  Agramant Grandpre     M\n",
       "\n",
       "[228 rows x 4 columns]"
      ]
     },
     "execution_count": 8,
     "metadata": {},
     "output_type": "execute_result"
    }
   ],
   "source": [
    "datajson.sort_values(['genre', 'nom'], ascending=[True, False])\n"
   ]
  },
  {
   "cell_type": "code",
   "execution_count": 9,
   "metadata": {},
   "outputs": [
    {
     "data": {
      "text/plain": [
       "0       Laurent Dagenais\n",
       "1             Guy Marois\n",
       "2        Beaufort Lesage\n",
       "3         Russell Durand\n",
       "4            Alexis Riel\n",
       "             ...        \n",
       "223    Claude Dandonneau\n",
       "224     Apolline Michaud\n",
       "225    Pascaline Beaudry\n",
       "226       Fleur Caouette\n",
       "227        Francis Masse\n",
       "Name: nom, Length: 228, dtype: object"
      ]
     },
     "metadata": {},
     "output_type": "display_data"
    }
   ],
   "source": [
    "nom = datajson['nom']\n",
    "display(nom)"
   ]
  },
  {
   "cell_type": "code",
   "execution_count": 10,
   "metadata": {},
   "outputs": [
    {
     "data": {
      "text/plain": [
       "0        0\n",
       "1        2\n",
       "2        4\n",
       "3        6\n",
       "4        8\n",
       "      ... \n",
       "223    446\n",
       "224    448\n",
       "225    450\n",
       "226    452\n",
       "227    454\n",
       "Name: identifiant, Length: 228, dtype: int64"
      ]
     },
     "metadata": {},
     "output_type": "display_data"
    }
   ],
   "source": [
    "nidentifient = datajson['identifiant']*2\n",
    "display(nidentifient)"
   ]
  },
  {
   "cell_type": "markdown",
   "metadata": {},
   "source": [
    "#ceraion de colonne "
   ]
  },
  {
   "cell_type": "code",
   "execution_count": 11,
   "metadata": {},
   "outputs": [
    {
     "data": {
      "application/vnd.microsoft.datawrangler.viewer.v0+json": {
       "columns": [
        {
         "name": "index",
         "rawType": "int64",
         "type": "integer"
        },
        {
         "name": "identifiant",
         "rawType": "int64",
         "type": "integer"
        },
        {
         "name": "email",
         "rawType": "object",
         "type": "string"
        },
        {
         "name": "nom",
         "rawType": "object",
         "type": "string"
        },
        {
         "name": "genre",
         "rawType": "object",
         "type": "string"
        },
        {
         "name": "salairebase",
         "rawType": "int32",
         "type": "integer"
        }
       ],
       "conversionMethod": "pd.DataFrame",
       "ref": "9d4b6d32-dc04-408a-ad6e-7d6f7683b8f4",
       "rows": [
        [
         "0",
         "0",
         "LaurentDagenais@rhyta.com",
         "Laurent Dagenais",
         "M",
         "6247"
        ],
        [
         "1",
         "1",
         "GuyMarois@fleckens.hu",
         "Guy Marois",
         "M",
         "28707"
        ],
        [
         "2",
         "2",
         "BeaufortLesage@einrot.com",
         "Beaufort Lesage",
         "M",
         "21868"
        ],
        [
         "3",
         "3",
         "RussellDurand@armyspy.com",
         "Russell Durand",
         "M",
         "27523"
        ],
        [
         "4",
         "4",
         "AlexisRiel@rhyta.com",
         "Alexis Riel",
         "M",
         "24574"
        ],
        [
         "5",
         "5",
         "LeonLapresse@cuvox.de",
         "Leon Lapresse",
         "M",
         "8358"
        ],
        [
         "6",
         "6",
         "OrvilleRouthier@gustr.com",
         "Orville Routhier",
         "M",
         "13171"
        ],
        [
         "7",
         "7",
         "AgramantPepin@dayrep.com",
         "Agramant Pepin",
         "M",
         "12606"
        ],
        [
         "8",
         "8",
         "AiglentinaLambert@fleckens.hu",
         "Aiglentina Lambert",
         "F",
         "5945"
        ],
        [
         "9",
         "9",
         "TheodoreClavet@teleworm.us",
         "Theodore Clavet",
         "M",
         "27974"
        ],
        [
         "10",
         "10",
         "ByronLefebvre@jourrapide.com",
         "Byron Lefebvre",
         "M",
         "18438"
        ],
        [
         "11",
         "11",
         "FlorusDevoe@einrot.com",
         "Florus Devoe",
         "M",
         "14040"
        ],
        [
         "12",
         "12",
         "NormandArsenault@armyspy.com",
         "Normand Arsenault",
         "M",
         "19452"
        ],
        [
         "13",
         "13",
         "AcelineHughes@jourrapide.com",
         "Aceline Hughes",
         "F",
         "20193"
        ],
        [
         "14",
         "14",
         "GastonBrisette@superrito.com",
         "Gaston Brisette",
         "M",
         "5379"
        ],
        [
         "15",
         "15",
         "AgateGrandbois@gustr.com",
         "Agate Grandbois",
         "F",
         "16760"
        ],
        [
         "16",
         "16",
         "AgricanFoucault@jourrapide.com",
         "Agrican Foucault",
         "M",
         "2942"
        ],
        [
         "17",
         "17",
         "PrunellaJosseaume@armyspy.com",
         "Prunella Josseaume",
         "F",
         "20570"
        ],
        [
         "18",
         "18",
         "YseultCharest@armyspy.com",
         "Yseult Charest",
         "F",
         "12338"
        ],
        [
         "19",
         "19",
         "DorotheeAupry@cuvox.de",
         "Dorothee Aupry",
         "F",
         "8403"
        ],
        [
         "20",
         "20",
         "AmauryReault@teleworm.us",
         "Amaury Reault",
         "M",
         "16570"
        ],
        [
         "21",
         "21",
         "GillesBeauchamps@superrito.com",
         "Gilles Beauchamps",
         "M",
         "24612"
        ],
        [
         "22",
         "22",
         "FranckDumont@gustr.com",
         "Franck Dumont",
         "M",
         "18601"
        ],
        [
         "23",
         "23",
         "DelmareLHeureux@dayrep.com",
         "Delmare L Heureux",
         "F",
         "5327"
        ],
        [
         "24",
         "24",
         "AlphonseCantin@cuvox.de",
         "Alphonse Cantin",
         "M",
         "18181"
        ],
        [
         "25",
         "25",
         "BlondelleRochon@gustr.com",
         "Blondelle Rochon",
         "F",
         "11700"
        ],
        [
         "26",
         "26",
         "SavilleBernard@armyspy.com",
         "Saville Bernard",
         "M",
         "1547"
        ],
        [
         "27",
         "27",
         "AnnetteJolicoeur@armyspy.com",
         "Annette Jolicoeur",
         "F",
         "19680"
        ],
        [
         "28",
         "28",
         "BradamateMichel@armyspy.com",
         "Bradamate Michel",
         "F",
         "10018"
        ],
        [
         "29",
         "29",
         "HilaireFrappier@armyspy.com",
         "Hilaire Frappier",
         "F",
         "8384"
        ],
        [
         "30",
         "30",
         "MarieBriard@gustr.com",
         "Marie Briard",
         "F",
         "23417"
        ],
        [
         "31",
         "31",
         "MadeleineBatard@superrito.com",
         "Madeleine Batard",
         "F",
         "17194"
        ],
        [
         "32",
         "32",
         "ArberGarcia@dayrep.com",
         "Arber Garcia",
         "M",
         "784"
        ],
        [
         "33",
         "33",
         "SaberViens@superrito.com",
         "Saber Viens",
         "M",
         "25558"
        ],
        [
         "34",
         "34",
         "ArnaudDubois@rhyta.com",
         "Arnaud Dubois",
         "M",
         "17358"
        ],
        [
         "35",
         "35",
         "PryorBeauchamp@dayrep.com",
         "Pryor Beauchamp",
         "M",
         "9825"
        ],
        [
         "36",
         "36",
         "AlphonsePotvin@armyspy.com",
         "Alphonse Potvin",
         "M",
         "13419"
        ],
        [
         "37",
         "37",
         "FitzLafontaine@dayrep.com",
         "Fitz Lafontaine",
         "M",
         "23169"
        ],
        [
         "38",
         "38",
         "DelmareLamothe@gustr.com",
         "Delmare Lamothe",
         "F",
         "12345"
        ],
        [
         "39",
         "39",
         "DaisiBoileau@jourrapide.com",
         "Daisi Boileau",
         "F",
         "14197"
        ],
        [
         "40",
         "40",
         "SomerPaquette@jourrapide.com",
         "Somer Paquette",
         "M",
         "3675"
        ],
        [
         "41",
         "41",
         "OlivieCourtemanche@armyspy.com",
         "Olivie Courtemanche",
         "F",
         "24416"
        ],
        [
         "42",
         "42",
         "GermainHughes@teleworm.us",
         "Germain Hughes",
         "M",
         "8296"
        ],
        [
         "43",
         "43",
         "MorganaBellemare@superrito.com",
         "Morgana Bellemare",
         "F",
         "5154"
        ],
        [
         "44",
         "44",
         "MerciMorin@gustr.com",
         "Merci Morin",
         "F",
         "17871"
        ],
        [
         "45",
         "45",
         "VerneyBedard@dayrep.com",
         "Verney Bedard",
         "M",
         "15107"
        ],
        [
         "46",
         "46",
         "IgnaceAudibert@armyspy.com",
         "Ignace Audibert",
         "M",
         "9128"
        ],
        [
         "47",
         "47",
         "FranckBinet@superrito.com",
         "Franck Binet",
         "M",
         "1258"
        ],
        [
         "48",
         "48",
         "SumnerRocheleau@einrot.com",
         "Sumner Rocheleau",
         "M",
         "404"
        ],
        [
         "49",
         "49",
         "AubertPatel@armyspy.com",
         "Aubert Patel",
         "M",
         "27741"
        ]
       ],
       "shape": {
        "columns": 5,
        "rows": 228
       }
      },
      "text/html": [
       "<div>\n",
       "<style scoped>\n",
       "    .dataframe tbody tr th:only-of-type {\n",
       "        vertical-align: middle;\n",
       "    }\n",
       "\n",
       "    .dataframe tbody tr th {\n",
       "        vertical-align: top;\n",
       "    }\n",
       "\n",
       "    .dataframe thead th {\n",
       "        text-align: right;\n",
       "    }\n",
       "</style>\n",
       "<table border=\"1\" class=\"dataframe\">\n",
       "  <thead>\n",
       "    <tr style=\"text-align: right;\">\n",
       "      <th></th>\n",
       "      <th>identifiant</th>\n",
       "      <th>email</th>\n",
       "      <th>nom</th>\n",
       "      <th>genre</th>\n",
       "      <th>salairebase</th>\n",
       "    </tr>\n",
       "  </thead>\n",
       "  <tbody>\n",
       "    <tr>\n",
       "      <th>0</th>\n",
       "      <td>0</td>\n",
       "      <td>LaurentDagenais@rhyta.com</td>\n",
       "      <td>Laurent Dagenais</td>\n",
       "      <td>M</td>\n",
       "      <td>6247</td>\n",
       "    </tr>\n",
       "    <tr>\n",
       "      <th>1</th>\n",
       "      <td>1</td>\n",
       "      <td>GuyMarois@fleckens.hu</td>\n",
       "      <td>Guy Marois</td>\n",
       "      <td>M</td>\n",
       "      <td>28707</td>\n",
       "    </tr>\n",
       "    <tr>\n",
       "      <th>2</th>\n",
       "      <td>2</td>\n",
       "      <td>BeaufortLesage@einrot.com</td>\n",
       "      <td>Beaufort Lesage</td>\n",
       "      <td>M</td>\n",
       "      <td>21868</td>\n",
       "    </tr>\n",
       "    <tr>\n",
       "      <th>3</th>\n",
       "      <td>3</td>\n",
       "      <td>RussellDurand@armyspy.com</td>\n",
       "      <td>Russell Durand</td>\n",
       "      <td>M</td>\n",
       "      <td>27523</td>\n",
       "    </tr>\n",
       "    <tr>\n",
       "      <th>4</th>\n",
       "      <td>4</td>\n",
       "      <td>AlexisRiel@rhyta.com</td>\n",
       "      <td>Alexis Riel</td>\n",
       "      <td>M</td>\n",
       "      <td>24574</td>\n",
       "    </tr>\n",
       "    <tr>\n",
       "      <th>...</th>\n",
       "      <td>...</td>\n",
       "      <td>...</td>\n",
       "      <td>...</td>\n",
       "      <td>...</td>\n",
       "      <td>...</td>\n",
       "    </tr>\n",
       "    <tr>\n",
       "      <th>223</th>\n",
       "      <td>223</td>\n",
       "      <td>ClaudeDandonneau@jourrapide.com</td>\n",
       "      <td>Claude Dandonneau</td>\n",
       "      <td>F</td>\n",
       "      <td>13454</td>\n",
       "    </tr>\n",
       "    <tr>\n",
       "      <th>224</th>\n",
       "      <td>224</td>\n",
       "      <td>ApollineMichaud@superrito.com</td>\n",
       "      <td>Apolline Michaud</td>\n",
       "      <td>F</td>\n",
       "      <td>4708</td>\n",
       "    </tr>\n",
       "    <tr>\n",
       "      <th>225</th>\n",
       "      <td>225</td>\n",
       "      <td>PascalineBeaudry@rhyta.com</td>\n",
       "      <td>Pascaline Beaudry</td>\n",
       "      <td>F</td>\n",
       "      <td>7342</td>\n",
       "    </tr>\n",
       "    <tr>\n",
       "      <th>226</th>\n",
       "      <td>226</td>\n",
       "      <td>FleurCaouette@jourrapide.com</td>\n",
       "      <td>Fleur Caouette</td>\n",
       "      <td>F</td>\n",
       "      <td>11901</td>\n",
       "    </tr>\n",
       "    <tr>\n",
       "      <th>227</th>\n",
       "      <td>227</td>\n",
       "      <td>FrancisMasse@jourrapide.com</td>\n",
       "      <td>Francis Masse</td>\n",
       "      <td>M</td>\n",
       "      <td>3217</td>\n",
       "    </tr>\n",
       "  </tbody>\n",
       "</table>\n",
       "<p>228 rows × 5 columns</p>\n",
       "</div>"
      ],
      "text/plain": [
       "     identifiant                            email                nom genre  \\\n",
       "0              0        LaurentDagenais@rhyta.com   Laurent Dagenais     M   \n",
       "1              1            GuyMarois@fleckens.hu         Guy Marois     M   \n",
       "2              2        BeaufortLesage@einrot.com    Beaufort Lesage     M   \n",
       "3              3        RussellDurand@armyspy.com     Russell Durand     M   \n",
       "4              4             AlexisRiel@rhyta.com        Alexis Riel     M   \n",
       "..           ...                              ...                ...   ...   \n",
       "223          223  ClaudeDandonneau@jourrapide.com  Claude Dandonneau     F   \n",
       "224          224    ApollineMichaud@superrito.com   Apolline Michaud     F   \n",
       "225          225       PascalineBeaudry@rhyta.com  Pascaline Beaudry     F   \n",
       "226          226     FleurCaouette@jourrapide.com     Fleur Caouette     F   \n",
       "227          227      FrancisMasse@jourrapide.com      Francis Masse     M   \n",
       "\n",
       "     salairebase  \n",
       "0           6247  \n",
       "1          28707  \n",
       "2          21868  \n",
       "3          27523  \n",
       "4          24574  \n",
       "..           ...  \n",
       "223        13454  \n",
       "224         4708  \n",
       "225         7342  \n",
       "226        11901  \n",
       "227         3217  \n",
       "\n",
       "[228 rows x 5 columns]"
      ]
     },
     "metadata": {},
     "output_type": "display_data"
    }
   ],
   "source": [
    "\n",
    "datajson['salairebase'] = np.random.randint(100, 28800, datajson.shape[0])\n",
    "display(datajson)"
   ]
  },
  {
   "cell_type": "code",
   "execution_count": 12,
   "metadata": {},
   "outputs": [
    {
     "data": {
      "application/vnd.microsoft.datawrangler.viewer.v0+json": {
       "columns": [
        {
         "name": "index",
         "rawType": "int64",
         "type": "integer"
        },
        {
         "name": "identifiant",
         "rawType": "int64",
         "type": "integer"
        },
        {
         "name": "email",
         "rawType": "object",
         "type": "string"
        },
        {
         "name": "nom",
         "rawType": "object",
         "type": "string"
        },
        {
         "name": "genre",
         "rawType": "object",
         "type": "string"
        },
        {
         "name": "salairebase",
         "rawType": "int32",
         "type": "integer"
        }
       ],
       "conversionMethod": "pd.DataFrame",
       "ref": "a377b556-fcef-409d-bace-8265169db57b",
       "rows": [
        [
         "13",
         "13",
         "AcelineHughes@jourrapide.com",
         "Aceline Hughes",
         "F",
         "20193"
        ],
        [
         "135",
         "135",
         "AdelaideBrousse@gustr.com",
         "Adelaide Brousse",
         "F",
         "9552"
        ],
        [
         "189",
         "189",
         "AdeleClavette@cuvox.de",
         "Adele Clavette",
         "F",
         "4323"
        ],
        [
         "15",
         "15",
         "AgateGrandbois@gustr.com",
         "Agate Grandbois",
         "F",
         "16760"
        ],
        [
         "180",
         "180",
         "AgnesBriard@cuvox.de",
         "Agnes Briard",
         "F",
         "13156"
        ],
        [
         "202",
         "202",
         "AgramantGrandpre@rhyta.com",
         "Agramant Grandpre",
         "M",
         "5179"
        ],
        [
         "7",
         "7",
         "AgramantPepin@dayrep.com",
         "Agramant Pepin",
         "M",
         "12606"
        ],
        [
         "16",
         "16",
         "AgricanFoucault@jourrapide.com",
         "Agrican Foucault",
         "M",
         "2942"
        ],
        [
         "8",
         "8",
         "AiglentinaLambert@fleckens.hu",
         "Aiglentina Lambert",
         "F",
         "5945"
        ],
        [
         "206",
         "206",
         "AiglentinaMarcheterre@superrito.com",
         "Aiglentina Marcheterre",
         "F",
         "19567"
        ],
        [
         "204",
         "204",
         "AimeMarseau@dayrep.com",
         "Aime Marseau",
         "M",
         "18262"
        ],
        [
         "137",
         "137",
         "AlaineHervieux@rhyta.com",
         "Alaine Hervieux",
         "F",
         "27473"
        ],
        [
         "62",
         "62",
         "AleronBerard@rhyta.com",
         "Aleron Berard",
         "M",
         "21592"
        ],
        [
         "88",
         "88",
         "AlexisLagrange@gustr.com",
         "Alexis Lagrange",
         "M",
         "3331"
        ],
        [
         "4",
         "4",
         "AlexisRiel@rhyta.com",
         "Alexis Riel",
         "M",
         "24574"
        ],
        [
         "154",
         "154",
         "AllyrianeRacine@gustr.com",
         "Allyriane Racine",
         "F",
         "23619"
        ],
        [
         "24",
         "24",
         "AlphonseCantin@cuvox.de",
         "Alphonse Cantin",
         "M",
         "18181"
        ],
        [
         "36",
         "36",
         "AlphonsePotvin@armyspy.com",
         "Alphonse Potvin",
         "M",
         "13419"
        ],
        [
         "58",
         "58",
         "AlphonsineBourassa@cuvox.de",
         "Alphonsine Bourassa",
         "F",
         "13145"
        ],
        [
         "117",
         "117",
         "AlphonsineSacre@einrot.com",
         "Alphonsine Sacre",
         "F",
         "9411"
        ],
        [
         "191",
         "191",
         "AmaranteLacroix@fleckens.hu",
         "Amarante Lacroix",
         "F",
         "21598"
        ],
        [
         "20",
         "20",
         "AmauryReault@teleworm.us",
         "Amaury Reault",
         "M",
         "16570"
        ],
        [
         "133",
         "133",
         "AmaurySirois@superrito.com",
         "Amaury Sirois",
         "M",
         "2000"
        ],
        [
         "166",
         "166",
         "AnastasieCroteau@rhyta.com",
         "Anastasie Croteau",
         "F",
         "1858"
        ],
        [
         "92",
         "92",
         "AnceloteDesforges@cuvox.de",
         "Ancelote Desforges",
         "F",
         "27745"
        ],
        [
         "27",
         "27",
         "AnnetteJolicoeur@armyspy.com",
         "Annette Jolicoeur",
         "F",
         "19680"
        ],
        [
         "163",
         "163",
         "ApollineLaframboise@teleworm.us",
         "Apolline Laframboise",
         "F",
         "6164"
        ],
        [
         "224",
         "224",
         "ApollineMichaud@superrito.com",
         "Apolline Michaud",
         "F",
         "4708"
        ],
        [
         "32",
         "32",
         "ArberGarcia@dayrep.com",
         "Arber Garcia",
         "M",
         "784"
        ],
        [
         "120",
         "120",
         "ArienneCantin@superrito.com",
         "Arienne Cantin",
         "F",
         "3801"
        ],
        [
         "34",
         "34",
         "ArnaudDubois@rhyta.com",
         "Arnaud Dubois",
         "M",
         "17358"
        ],
        [
         "105",
         "105",
         "ArnoLeBatelier@einrot.com",
         "Arno Le Batelier",
         "M",
         "13029"
        ],
        [
         "123",
         "123",
         "ArthurPlante@jourrapide.com",
         "Arthur Plante",
         "M",
         "121"
        ],
        [
         "140",
         "140",
         "AstolphoVeronneau@teleworm.us",
         "Astolpho Veronneau",
         "M",
         "27551"
        ],
        [
         "85",
         "85",
         "AstridJolicoeur@superrito.com",
         "Astrid Jolicoeur",
         "F",
         "21171"
        ],
        [
         "49",
         "49",
         "AubertPatel@armyspy.com",
         "Aubert Patel",
         "M",
         "27741"
        ],
        [
         "118",
         "118",
         "AubineLabelle@cuvox.de",
         "Aubine Labelle",
         "F",
         "28568"
        ],
        [
         "139",
         "139",
         "AurelieBazinet@dayrep.com",
         "Aurelie Bazinet",
         "F",
         "2580"
        ],
        [
         "171",
         "171",
         "AurelieDesnoyer@armyspy.com",
         "Aurelie Desnoyer",
         "F",
         "7121"
        ],
        [
         "172",
         "172",
         "AvelaineGadbois@dayrep.com",
         "Avelaine Gadbois",
         "F",
         "27426"
        ],
        [
         "181",
         "181",
         "AvrilRocheleau@fleckens.hu",
         "Avril Rocheleau",
         "F",
         "28091"
        ],
        [
         "94",
         "94",
         "AvrilSylvain@superrito.com",
         "Avril Sylvain",
         "F",
         "990"
        ],
        [
         "2",
         "2",
         "BeaufortLesage@einrot.com",
         "Beaufort Lesage",
         "M",
         "21868"
        ],
        [
         "116",
         "116",
         "BeldaLauzier@armyspy.com",
         "Belda Lauzier",
         "F",
         "9601"
        ],
        [
         "52",
         "52",
         "BelisardaGuedry@dayrep.com",
         "Belisarda Guedry",
         "F",
         "24315"
        ],
        [
         "96",
         "96",
         "BenjaminLabrie@fleckens.hu",
         "Benjamin Labrie",
         "M",
         "23523"
        ],
        [
         "182",
         "182",
         "BenoitGauvin@teleworm.us",
         "Benoit Gauvin",
         "M",
         "1759"
        ],
        [
         "170",
         "170",
         "BlondelleAilleboust@gustr.com",
         "Blondelle Ailleboust",
         "F",
         "27160"
        ],
        [
         "25",
         "25",
         "BlondelleRochon@gustr.com",
         "Blondelle Rochon",
         "F",
         "11700"
        ],
        [
         "28",
         "28",
         "BradamateMichel@armyspy.com",
         "Bradamate Michel",
         "F",
         "10018"
        ]
       ],
       "shape": {
        "columns": 5,
        "rows": 228
       }
      },
      "text/html": [
       "<div>\n",
       "<style scoped>\n",
       "    .dataframe tbody tr th:only-of-type {\n",
       "        vertical-align: middle;\n",
       "    }\n",
       "\n",
       "    .dataframe tbody tr th {\n",
       "        vertical-align: top;\n",
       "    }\n",
       "\n",
       "    .dataframe thead th {\n",
       "        text-align: right;\n",
       "    }\n",
       "</style>\n",
       "<table border=\"1\" class=\"dataframe\">\n",
       "  <thead>\n",
       "    <tr style=\"text-align: right;\">\n",
       "      <th></th>\n",
       "      <th>identifiant</th>\n",
       "      <th>email</th>\n",
       "      <th>nom</th>\n",
       "      <th>genre</th>\n",
       "      <th>salairebase</th>\n",
       "    </tr>\n",
       "  </thead>\n",
       "  <tbody>\n",
       "    <tr>\n",
       "      <th>13</th>\n",
       "      <td>13</td>\n",
       "      <td>AcelineHughes@jourrapide.com</td>\n",
       "      <td>Aceline Hughes</td>\n",
       "      <td>F</td>\n",
       "      <td>20193</td>\n",
       "    </tr>\n",
       "    <tr>\n",
       "      <th>135</th>\n",
       "      <td>135</td>\n",
       "      <td>AdelaideBrousse@gustr.com</td>\n",
       "      <td>Adelaide Brousse</td>\n",
       "      <td>F</td>\n",
       "      <td>9552</td>\n",
       "    </tr>\n",
       "    <tr>\n",
       "      <th>189</th>\n",
       "      <td>189</td>\n",
       "      <td>AdeleClavette@cuvox.de</td>\n",
       "      <td>Adele Clavette</td>\n",
       "      <td>F</td>\n",
       "      <td>4323</td>\n",
       "    </tr>\n",
       "    <tr>\n",
       "      <th>15</th>\n",
       "      <td>15</td>\n",
       "      <td>AgateGrandbois@gustr.com</td>\n",
       "      <td>Agate Grandbois</td>\n",
       "      <td>F</td>\n",
       "      <td>16760</td>\n",
       "    </tr>\n",
       "    <tr>\n",
       "      <th>180</th>\n",
       "      <td>180</td>\n",
       "      <td>AgnesBriard@cuvox.de</td>\n",
       "      <td>Agnes Briard</td>\n",
       "      <td>F</td>\n",
       "      <td>13156</td>\n",
       "    </tr>\n",
       "    <tr>\n",
       "      <th>...</th>\n",
       "      <td>...</td>\n",
       "      <td>...</td>\n",
       "      <td>...</td>\n",
       "      <td>...</td>\n",
       "      <td>...</td>\n",
       "    </tr>\n",
       "    <tr>\n",
       "      <th>64</th>\n",
       "      <td>64</td>\n",
       "      <td>YvetteDAvis@cuvox.de</td>\n",
       "      <td>Yvette D Avis</td>\n",
       "      <td>F</td>\n",
       "      <td>6312</td>\n",
       "    </tr>\n",
       "    <tr>\n",
       "      <th>174</th>\n",
       "      <td>174</td>\n",
       "      <td>ZacharieDuplessis@rhyta.com</td>\n",
       "      <td>Zacharie Duplessis</td>\n",
       "      <td>M</td>\n",
       "      <td>7138</td>\n",
       "    </tr>\n",
       "    <tr>\n",
       "      <th>100</th>\n",
       "      <td>100</td>\n",
       "      <td>ZdenekVadnais@superrito.com</td>\n",
       "      <td>Zdenek Vadnais</td>\n",
       "      <td>M</td>\n",
       "      <td>13661</td>\n",
       "    </tr>\n",
       "    <tr>\n",
       "      <th>112</th>\n",
       "      <td>112</td>\n",
       "      <td>ZoeLeclair@gustr.com</td>\n",
       "      <td>Zoe Leclair</td>\n",
       "      <td>F</td>\n",
       "      <td>17951</td>\n",
       "    </tr>\n",
       "    <tr>\n",
       "      <th>53</th>\n",
       "      <td>53</td>\n",
       "      <td>ZurieTheberge@gustr.com</td>\n",
       "      <td>Zurie Theberge</td>\n",
       "      <td>F</td>\n",
       "      <td>11694</td>\n",
       "    </tr>\n",
       "  </tbody>\n",
       "</table>\n",
       "<p>228 rows × 5 columns</p>\n",
       "</div>"
      ],
      "text/plain": [
       "     identifiant                         email                 nom genre  \\\n",
       "13            13  AcelineHughes@jourrapide.com      Aceline Hughes     F   \n",
       "135          135     AdelaideBrousse@gustr.com    Adelaide Brousse     F   \n",
       "189          189        AdeleClavette@cuvox.de      Adele Clavette     F   \n",
       "15            15      AgateGrandbois@gustr.com     Agate Grandbois     F   \n",
       "180          180          AgnesBriard@cuvox.de        Agnes Briard     F   \n",
       "..           ...                           ...                 ...   ...   \n",
       "64            64          YvetteDAvis@cuvox.de       Yvette D Avis     F   \n",
       "174          174   ZacharieDuplessis@rhyta.com  Zacharie Duplessis     M   \n",
       "100          100   ZdenekVadnais@superrito.com      Zdenek Vadnais     M   \n",
       "112          112          ZoeLeclair@gustr.com         Zoe Leclair     F   \n",
       "53            53       ZurieTheberge@gustr.com      Zurie Theberge     F   \n",
       "\n",
       "     salairebase  \n",
       "13         20193  \n",
       "135         9552  \n",
       "189         4323  \n",
       "15         16760  \n",
       "180        13156  \n",
       "..           ...  \n",
       "64          6312  \n",
       "174         7138  \n",
       "100        13661  \n",
       "112        17951  \n",
       "53         11694  \n",
       "\n",
       "[228 rows x 5 columns]"
      ]
     },
     "execution_count": 12,
     "metadata": {},
     "output_type": "execute_result"
    }
   ],
   "source": [
    "datajson.sort_values(['nom', 'email'])"
   ]
  },
  {
   "cell_type": "code",
   "execution_count": 13,
   "metadata": {},
   "outputs": [
    {
     "data": {
      "application/vnd.microsoft.datawrangler.viewer.v0+json": {
       "columns": [
        {
         "name": "index",
         "rawType": "int64",
         "type": "integer"
        },
        {
         "name": "identifiant",
         "rawType": "int64",
         "type": "integer"
        },
        {
         "name": "email",
         "rawType": "object",
         "type": "string"
        },
        {
         "name": "nom",
         "rawType": "object",
         "type": "string"
        },
        {
         "name": "genre",
         "rawType": "object",
         "type": "string"
        },
        {
         "name": "salairebase",
         "rawType": "int32",
         "type": "integer"
        }
       ],
       "conversionMethod": "pd.DataFrame",
       "ref": "1e4f1942-008b-484c-b1b8-cf8723f5a579",
       "rows": [
        [
         "13",
         "13",
         "AcelineHughes@jourrapide.com",
         "Aceline Hughes",
         "F",
         "20193"
        ],
        [
         "135",
         "135",
         "AdelaideBrousse@gustr.com",
         "Adelaide Brousse",
         "F",
         "9552"
        ],
        [
         "189",
         "189",
         "AdeleClavette@cuvox.de",
         "Adele Clavette",
         "F",
         "4323"
        ],
        [
         "15",
         "15",
         "AgateGrandbois@gustr.com",
         "Agate Grandbois",
         "F",
         "16760"
        ],
        [
         "180",
         "180",
         "AgnesBriard@cuvox.de",
         "Agnes Briard",
         "F",
         "13156"
        ],
        [
         "202",
         "202",
         "AgramantGrandpre@rhyta.com",
         "Agramant Grandpre",
         "M",
         "5179"
        ],
        [
         "7",
         "7",
         "AgramantPepin@dayrep.com",
         "Agramant Pepin",
         "M",
         "12606"
        ],
        [
         "16",
         "16",
         "AgricanFoucault@jourrapide.com",
         "Agrican Foucault",
         "M",
         "2942"
        ],
        [
         "8",
         "8",
         "AiglentinaLambert@fleckens.hu",
         "Aiglentina Lambert",
         "F",
         "5945"
        ],
        [
         "206",
         "206",
         "AiglentinaMarcheterre@superrito.com",
         "Aiglentina Marcheterre",
         "F",
         "19567"
        ],
        [
         "204",
         "204",
         "AimeMarseau@dayrep.com",
         "Aime Marseau",
         "M",
         "18262"
        ],
        [
         "137",
         "137",
         "AlaineHervieux@rhyta.com",
         "Alaine Hervieux",
         "F",
         "27473"
        ],
        [
         "62",
         "62",
         "AleronBerard@rhyta.com",
         "Aleron Berard",
         "M",
         "21592"
        ],
        [
         "88",
         "88",
         "AlexisLagrange@gustr.com",
         "Alexis Lagrange",
         "M",
         "3331"
        ],
        [
         "4",
         "4",
         "AlexisRiel@rhyta.com",
         "Alexis Riel",
         "M",
         "24574"
        ],
        [
         "154",
         "154",
         "AllyrianeRacine@gustr.com",
         "Allyriane Racine",
         "F",
         "23619"
        ],
        [
         "24",
         "24",
         "AlphonseCantin@cuvox.de",
         "Alphonse Cantin",
         "M",
         "18181"
        ],
        [
         "36",
         "36",
         "AlphonsePotvin@armyspy.com",
         "Alphonse Potvin",
         "M",
         "13419"
        ],
        [
         "58",
         "58",
         "AlphonsineBourassa@cuvox.de",
         "Alphonsine Bourassa",
         "F",
         "13145"
        ],
        [
         "117",
         "117",
         "AlphonsineSacre@einrot.com",
         "Alphonsine Sacre",
         "F",
         "9411"
        ],
        [
         "191",
         "191",
         "AmaranteLacroix@fleckens.hu",
         "Amarante Lacroix",
         "F",
         "21598"
        ],
        [
         "20",
         "20",
         "AmauryReault@teleworm.us",
         "Amaury Reault",
         "M",
         "16570"
        ],
        [
         "133",
         "133",
         "AmaurySirois@superrito.com",
         "Amaury Sirois",
         "M",
         "2000"
        ],
        [
         "166",
         "166",
         "AnastasieCroteau@rhyta.com",
         "Anastasie Croteau",
         "F",
         "1858"
        ],
        [
         "92",
         "92",
         "AnceloteDesforges@cuvox.de",
         "Ancelote Desforges",
         "F",
         "27745"
        ],
        [
         "27",
         "27",
         "AnnetteJolicoeur@armyspy.com",
         "Annette Jolicoeur",
         "F",
         "19680"
        ],
        [
         "163",
         "163",
         "ApollineLaframboise@teleworm.us",
         "Apolline Laframboise",
         "F",
         "6164"
        ],
        [
         "224",
         "224",
         "ApollineMichaud@superrito.com",
         "Apolline Michaud",
         "F",
         "4708"
        ],
        [
         "32",
         "32",
         "ArberGarcia@dayrep.com",
         "Arber Garcia",
         "M",
         "784"
        ],
        [
         "120",
         "120",
         "ArienneCantin@superrito.com",
         "Arienne Cantin",
         "F",
         "3801"
        ],
        [
         "34",
         "34",
         "ArnaudDubois@rhyta.com",
         "Arnaud Dubois",
         "M",
         "17358"
        ],
        [
         "105",
         "105",
         "ArnoLeBatelier@einrot.com",
         "Arno Le Batelier",
         "M",
         "13029"
        ],
        [
         "123",
         "123",
         "ArthurPlante@jourrapide.com",
         "Arthur Plante",
         "M",
         "121"
        ],
        [
         "140",
         "140",
         "AstolphoVeronneau@teleworm.us",
         "Astolpho Veronneau",
         "M",
         "27551"
        ],
        [
         "85",
         "85",
         "AstridJolicoeur@superrito.com",
         "Astrid Jolicoeur",
         "F",
         "21171"
        ],
        [
         "49",
         "49",
         "AubertPatel@armyspy.com",
         "Aubert Patel",
         "M",
         "27741"
        ],
        [
         "118",
         "118",
         "AubineLabelle@cuvox.de",
         "Aubine Labelle",
         "F",
         "28568"
        ],
        [
         "139",
         "139",
         "AurelieBazinet@dayrep.com",
         "Aurelie Bazinet",
         "F",
         "2580"
        ],
        [
         "171",
         "171",
         "AurelieDesnoyer@armyspy.com",
         "Aurelie Desnoyer",
         "F",
         "7121"
        ],
        [
         "172",
         "172",
         "AvelaineGadbois@dayrep.com",
         "Avelaine Gadbois",
         "F",
         "27426"
        ],
        [
         "181",
         "181",
         "AvrilRocheleau@fleckens.hu",
         "Avril Rocheleau",
         "F",
         "28091"
        ],
        [
         "94",
         "94",
         "AvrilSylvain@superrito.com",
         "Avril Sylvain",
         "F",
         "990"
        ],
        [
         "2",
         "2",
         "BeaufortLesage@einrot.com",
         "Beaufort Lesage",
         "M",
         "21868"
        ],
        [
         "116",
         "116",
         "BeldaLauzier@armyspy.com",
         "Belda Lauzier",
         "F",
         "9601"
        ],
        [
         "52",
         "52",
         "BelisardaGuedry@dayrep.com",
         "Belisarda Guedry",
         "F",
         "24315"
        ],
        [
         "96",
         "96",
         "BenjaminLabrie@fleckens.hu",
         "Benjamin Labrie",
         "M",
         "23523"
        ],
        [
         "182",
         "182",
         "BenoitGauvin@teleworm.us",
         "Benoit Gauvin",
         "M",
         "1759"
        ],
        [
         "170",
         "170",
         "BlondelleAilleboust@gustr.com",
         "Blondelle Ailleboust",
         "F",
         "27160"
        ],
        [
         "25",
         "25",
         "BlondelleRochon@gustr.com",
         "Blondelle Rochon",
         "F",
         "11700"
        ],
        [
         "28",
         "28",
         "BradamateMichel@armyspy.com",
         "Bradamate Michel",
         "F",
         "10018"
        ]
       ],
       "shape": {
        "columns": 5,
        "rows": 228
       }
      },
      "text/html": [
       "<div>\n",
       "<style scoped>\n",
       "    .dataframe tbody tr th:only-of-type {\n",
       "        vertical-align: middle;\n",
       "    }\n",
       "\n",
       "    .dataframe tbody tr th {\n",
       "        vertical-align: top;\n",
       "    }\n",
       "\n",
       "    .dataframe thead th {\n",
       "        text-align: right;\n",
       "    }\n",
       "</style>\n",
       "<table border=\"1\" class=\"dataframe\">\n",
       "  <thead>\n",
       "    <tr style=\"text-align: right;\">\n",
       "      <th></th>\n",
       "      <th>identifiant</th>\n",
       "      <th>email</th>\n",
       "      <th>nom</th>\n",
       "      <th>genre</th>\n",
       "      <th>salairebase</th>\n",
       "    </tr>\n",
       "  </thead>\n",
       "  <tbody>\n",
       "    <tr>\n",
       "      <th>13</th>\n",
       "      <td>13</td>\n",
       "      <td>AcelineHughes@jourrapide.com</td>\n",
       "      <td>Aceline Hughes</td>\n",
       "      <td>F</td>\n",
       "      <td>20193</td>\n",
       "    </tr>\n",
       "    <tr>\n",
       "      <th>135</th>\n",
       "      <td>135</td>\n",
       "      <td>AdelaideBrousse@gustr.com</td>\n",
       "      <td>Adelaide Brousse</td>\n",
       "      <td>F</td>\n",
       "      <td>9552</td>\n",
       "    </tr>\n",
       "    <tr>\n",
       "      <th>189</th>\n",
       "      <td>189</td>\n",
       "      <td>AdeleClavette@cuvox.de</td>\n",
       "      <td>Adele Clavette</td>\n",
       "      <td>F</td>\n",
       "      <td>4323</td>\n",
       "    </tr>\n",
       "    <tr>\n",
       "      <th>15</th>\n",
       "      <td>15</td>\n",
       "      <td>AgateGrandbois@gustr.com</td>\n",
       "      <td>Agate Grandbois</td>\n",
       "      <td>F</td>\n",
       "      <td>16760</td>\n",
       "    </tr>\n",
       "    <tr>\n",
       "      <th>180</th>\n",
       "      <td>180</td>\n",
       "      <td>AgnesBriard@cuvox.de</td>\n",
       "      <td>Agnes Briard</td>\n",
       "      <td>F</td>\n",
       "      <td>13156</td>\n",
       "    </tr>\n",
       "    <tr>\n",
       "      <th>...</th>\n",
       "      <td>...</td>\n",
       "      <td>...</td>\n",
       "      <td>...</td>\n",
       "      <td>...</td>\n",
       "      <td>...</td>\n",
       "    </tr>\n",
       "    <tr>\n",
       "      <th>64</th>\n",
       "      <td>64</td>\n",
       "      <td>YvetteDAvis@cuvox.de</td>\n",
       "      <td>Yvette D Avis</td>\n",
       "      <td>F</td>\n",
       "      <td>6312</td>\n",
       "    </tr>\n",
       "    <tr>\n",
       "      <th>174</th>\n",
       "      <td>174</td>\n",
       "      <td>ZacharieDuplessis@rhyta.com</td>\n",
       "      <td>Zacharie Duplessis</td>\n",
       "      <td>M</td>\n",
       "      <td>7138</td>\n",
       "    </tr>\n",
       "    <tr>\n",
       "      <th>100</th>\n",
       "      <td>100</td>\n",
       "      <td>ZdenekVadnais@superrito.com</td>\n",
       "      <td>Zdenek Vadnais</td>\n",
       "      <td>M</td>\n",
       "      <td>13661</td>\n",
       "    </tr>\n",
       "    <tr>\n",
       "      <th>112</th>\n",
       "      <td>112</td>\n",
       "      <td>ZoeLeclair@gustr.com</td>\n",
       "      <td>Zoe Leclair</td>\n",
       "      <td>F</td>\n",
       "      <td>17951</td>\n",
       "    </tr>\n",
       "    <tr>\n",
       "      <th>53</th>\n",
       "      <td>53</td>\n",
       "      <td>ZurieTheberge@gustr.com</td>\n",
       "      <td>Zurie Theberge</td>\n",
       "      <td>F</td>\n",
       "      <td>11694</td>\n",
       "    </tr>\n",
       "  </tbody>\n",
       "</table>\n",
       "<p>228 rows × 5 columns</p>\n",
       "</div>"
      ],
      "text/plain": [
       "     identifiant                         email                 nom genre  \\\n",
       "13            13  AcelineHughes@jourrapide.com      Aceline Hughes     F   \n",
       "135          135     AdelaideBrousse@gustr.com    Adelaide Brousse     F   \n",
       "189          189        AdeleClavette@cuvox.de      Adele Clavette     F   \n",
       "15            15      AgateGrandbois@gustr.com     Agate Grandbois     F   \n",
       "180          180          AgnesBriard@cuvox.de        Agnes Briard     F   \n",
       "..           ...                           ...                 ...   ...   \n",
       "64            64          YvetteDAvis@cuvox.de       Yvette D Avis     F   \n",
       "174          174   ZacharieDuplessis@rhyta.com  Zacharie Duplessis     M   \n",
       "100          100   ZdenekVadnais@superrito.com      Zdenek Vadnais     M   \n",
       "112          112          ZoeLeclair@gustr.com         Zoe Leclair     F   \n",
       "53            53       ZurieTheberge@gustr.com      Zurie Theberge     F   \n",
       "\n",
       "     salairebase  \n",
       "13         20193  \n",
       "135         9552  \n",
       "189         4323  \n",
       "15         16760  \n",
       "180        13156  \n",
       "..           ...  \n",
       "64          6312  \n",
       "174         7138  \n",
       "100        13661  \n",
       "112        17951  \n",
       "53         11694  \n",
       "\n",
       "[228 rows x 5 columns]"
      ]
     },
     "metadata": {},
     "output_type": "display_data"
    }
   ],
   "source": [
    "tri = datajson.sort_values(['nom', 'email'] , ascending=[True , False])\n",
    "display(tri)"
   ]
  },
  {
   "cell_type": "code",
   "execution_count": 14,
   "metadata": {},
   "outputs": [
    {
     "data": {
      "application/vnd.microsoft.datawrangler.viewer.v0+json": {
       "columns": [
        {
         "name": "index",
         "rawType": "int64",
         "type": "integer"
        },
        {
         "name": "identifiant",
         "rawType": "int64",
         "type": "integer"
        },
        {
         "name": "email",
         "rawType": "object",
         "type": "string"
        },
        {
         "name": "nom",
         "rawType": "object",
         "type": "string"
        },
        {
         "name": "genre",
         "rawType": "object",
         "type": "string"
        },
        {
         "name": "salairebase",
         "rawType": "int32",
         "type": "integer"
        }
       ],
       "conversionMethod": "pd.DataFrame",
       "ref": "aced6cd5-2df1-4b8d-a112-111f8c182a3a",
       "rows": [
        [
         "0",
         "0",
         "LaurentDagenais@rhyta.com",
         "Laurent Dagenais",
         "M",
         "6247"
        ],
        [
         "8",
         "8",
         "AiglentinaLambert@fleckens.hu",
         "Aiglentina Lambert",
         "F",
         "5945"
        ],
        [
         "14",
         "14",
         "GastonBrisette@superrito.com",
         "Gaston Brisette",
         "M",
         "5379"
        ],
        [
         "16",
         "16",
         "AgricanFoucault@jourrapide.com",
         "Agrican Foucault",
         "M",
         "2942"
        ],
        [
         "23",
         "23",
         "DelmareLHeureux@dayrep.com",
         "Delmare L Heureux",
         "F",
         "5327"
        ]
       ],
       "shape": {
        "columns": 5,
        "rows": 5
       }
      },
      "text/html": [
       "<div>\n",
       "<style scoped>\n",
       "    .dataframe tbody tr th:only-of-type {\n",
       "        vertical-align: middle;\n",
       "    }\n",
       "\n",
       "    .dataframe tbody tr th {\n",
       "        vertical-align: top;\n",
       "    }\n",
       "\n",
       "    .dataframe thead th {\n",
       "        text-align: right;\n",
       "    }\n",
       "</style>\n",
       "<table border=\"1\" class=\"dataframe\">\n",
       "  <thead>\n",
       "    <tr style=\"text-align: right;\">\n",
       "      <th></th>\n",
       "      <th>identifiant</th>\n",
       "      <th>email</th>\n",
       "      <th>nom</th>\n",
       "      <th>genre</th>\n",
       "      <th>salairebase</th>\n",
       "    </tr>\n",
       "  </thead>\n",
       "  <tbody>\n",
       "    <tr>\n",
       "      <th>0</th>\n",
       "      <td>0</td>\n",
       "      <td>LaurentDagenais@rhyta.com</td>\n",
       "      <td>Laurent Dagenais</td>\n",
       "      <td>M</td>\n",
       "      <td>6247</td>\n",
       "    </tr>\n",
       "    <tr>\n",
       "      <th>8</th>\n",
       "      <td>8</td>\n",
       "      <td>AiglentinaLambert@fleckens.hu</td>\n",
       "      <td>Aiglentina Lambert</td>\n",
       "      <td>F</td>\n",
       "      <td>5945</td>\n",
       "    </tr>\n",
       "    <tr>\n",
       "      <th>14</th>\n",
       "      <td>14</td>\n",
       "      <td>GastonBrisette@superrito.com</td>\n",
       "      <td>Gaston Brisette</td>\n",
       "      <td>M</td>\n",
       "      <td>5379</td>\n",
       "    </tr>\n",
       "    <tr>\n",
       "      <th>16</th>\n",
       "      <td>16</td>\n",
       "      <td>AgricanFoucault@jourrapide.com</td>\n",
       "      <td>Agrican Foucault</td>\n",
       "      <td>M</td>\n",
       "      <td>2942</td>\n",
       "    </tr>\n",
       "    <tr>\n",
       "      <th>23</th>\n",
       "      <td>23</td>\n",
       "      <td>DelmareLHeureux@dayrep.com</td>\n",
       "      <td>Delmare L Heureux</td>\n",
       "      <td>F</td>\n",
       "      <td>5327</td>\n",
       "    </tr>\n",
       "  </tbody>\n",
       "</table>\n",
       "</div>"
      ],
      "text/plain": [
       "    identifiant                           email                 nom genre  \\\n",
       "0             0       LaurentDagenais@rhyta.com    Laurent Dagenais     M   \n",
       "8             8   AiglentinaLambert@fleckens.hu  Aiglentina Lambert     F   \n",
       "14           14    GastonBrisette@superrito.com     Gaston Brisette     M   \n",
       "16           16  AgricanFoucault@jourrapide.com    Agrican Foucault     M   \n",
       "23           23      DelmareLHeureux@dayrep.com   Delmare L Heureux     F   \n",
       "\n",
       "    salairebase  \n",
       "0          6247  \n",
       "8          5945  \n",
       "14         5379  \n",
       "16         2942  \n",
       "23         5327  "
      ]
     },
     "execution_count": 14,
     "metadata": {},
     "output_type": "execute_result"
    }
   ],
   "source": [
    "datajson.loc[datajson['salairebase'] < 7000 , :].head()"
   ]
  },
  {
   "cell_type": "code",
   "execution_count": 15,
   "metadata": {},
   "outputs": [
    {
     "data": {
      "application/vnd.microsoft.datawrangler.viewer.v0+json": {
       "columns": [
        {
         "name": "index",
         "rawType": "int64",
         "type": "integer"
        },
        {
         "name": "identifiant",
         "rawType": "int64",
         "type": "integer"
        },
        {
         "name": "email",
         "rawType": "object",
         "type": "string"
        },
        {
         "name": "nom",
         "rawType": "object",
         "type": "string"
        },
        {
         "name": "genre",
         "rawType": "object",
         "type": "string"
        },
        {
         "name": "salairebase",
         "rawType": "int32",
         "type": "integer"
        }
       ],
       "conversionMethod": "pd.DataFrame",
       "ref": "2c8ec18f-57e1-4382-b528-d939dcadf8e2",
       "rows": [
        [
         "0",
         "0",
         "LaurentDagenais@rhyta.com",
         "Laurent Dagenais",
         "M",
         "6247"
        ],
        [
         "5",
         "5",
         "LeonLapresse@cuvox.de",
         "Leon Lapresse",
         "M",
         "8358"
        ],
        [
         "8",
         "8",
         "AiglentinaLambert@fleckens.hu",
         "Aiglentina Lambert",
         "F",
         "5945"
        ],
        [
         "14",
         "14",
         "GastonBrisette@superrito.com",
         "Gaston Brisette",
         "M",
         "5379"
        ],
        [
         "19",
         "19",
         "DorotheeAupry@cuvox.de",
         "Dorothee Aupry",
         "F",
         "8403"
        ]
       ],
       "shape": {
        "columns": 5,
        "rows": 5
       }
      },
      "text/html": [
       "<div>\n",
       "<style scoped>\n",
       "    .dataframe tbody tr th:only-of-type {\n",
       "        vertical-align: middle;\n",
       "    }\n",
       "\n",
       "    .dataframe tbody tr th {\n",
       "        vertical-align: top;\n",
       "    }\n",
       "\n",
       "    .dataframe thead th {\n",
       "        text-align: right;\n",
       "    }\n",
       "</style>\n",
       "<table border=\"1\" class=\"dataframe\">\n",
       "  <thead>\n",
       "    <tr style=\"text-align: right;\">\n",
       "      <th></th>\n",
       "      <th>identifiant</th>\n",
       "      <th>email</th>\n",
       "      <th>nom</th>\n",
       "      <th>genre</th>\n",
       "      <th>salairebase</th>\n",
       "    </tr>\n",
       "  </thead>\n",
       "  <tbody>\n",
       "    <tr>\n",
       "      <th>0</th>\n",
       "      <td>0</td>\n",
       "      <td>LaurentDagenais@rhyta.com</td>\n",
       "      <td>Laurent Dagenais</td>\n",
       "      <td>M</td>\n",
       "      <td>6247</td>\n",
       "    </tr>\n",
       "    <tr>\n",
       "      <th>5</th>\n",
       "      <td>5</td>\n",
       "      <td>LeonLapresse@cuvox.de</td>\n",
       "      <td>Leon Lapresse</td>\n",
       "      <td>M</td>\n",
       "      <td>8358</td>\n",
       "    </tr>\n",
       "    <tr>\n",
       "      <th>8</th>\n",
       "      <td>8</td>\n",
       "      <td>AiglentinaLambert@fleckens.hu</td>\n",
       "      <td>Aiglentina Lambert</td>\n",
       "      <td>F</td>\n",
       "      <td>5945</td>\n",
       "    </tr>\n",
       "    <tr>\n",
       "      <th>14</th>\n",
       "      <td>14</td>\n",
       "      <td>GastonBrisette@superrito.com</td>\n",
       "      <td>Gaston Brisette</td>\n",
       "      <td>M</td>\n",
       "      <td>5379</td>\n",
       "    </tr>\n",
       "    <tr>\n",
       "      <th>19</th>\n",
       "      <td>19</td>\n",
       "      <td>DorotheeAupry@cuvox.de</td>\n",
       "      <td>Dorothee Aupry</td>\n",
       "      <td>F</td>\n",
       "      <td>8403</td>\n",
       "    </tr>\n",
       "  </tbody>\n",
       "</table>\n",
       "</div>"
      ],
      "text/plain": [
       "    identifiant                          email                 nom genre  \\\n",
       "0             0      LaurentDagenais@rhyta.com    Laurent Dagenais     M   \n",
       "5             5          LeonLapresse@cuvox.de       Leon Lapresse     M   \n",
       "8             8  AiglentinaLambert@fleckens.hu  Aiglentina Lambert     F   \n",
       "14           14   GastonBrisette@superrito.com     Gaston Brisette     M   \n",
       "19           19         DorotheeAupry@cuvox.de      Dorothee Aupry     F   \n",
       "\n",
       "    salairebase  \n",
       "0          6247  \n",
       "5          8358  \n",
       "8          5945  \n",
       "14         5379  \n",
       "19         8403  "
      ]
     },
     "metadata": {},
     "output_type": "display_data"
    }
   ],
   "source": [
    "salaireinfe = datajson.loc[(datajson['salairebase'] < 10000) & ( datajson['salairebase'] > 4000)].head()\n",
    "display(salaireinfe)"
   ]
  },
  {
   "cell_type": "code",
   "execution_count": 16,
   "metadata": {},
   "outputs": [
    {
     "data": {
      "text/plain": [
       "None"
      ]
     },
     "metadata": {},
     "output_type": "display_data"
    },
    {
     "data": {
      "application/vnd.microsoft.datawrangler.viewer.v0+json": {
       "columns": [
        {
         "name": "index",
         "rawType": "int64",
         "type": "integer"
        },
        {
         "name": "ID",
         "rawType": "int64",
         "type": "integer"
        },
        {
         "name": "email",
         "rawType": "object",
         "type": "string"
        },
        {
         "name": "nom",
         "rawType": "object",
         "type": "string"
        },
        {
         "name": "genre",
         "rawType": "object",
         "type": "string"
        },
        {
         "name": "salairebase",
         "rawType": "int32",
         "type": "integer"
        }
       ],
       "conversionMethod": "pd.DataFrame",
       "ref": "e5535df4-8074-493b-9778-f5d2637db768",
       "rows": [
        [
         "0",
         "0",
         "LaurentDagenais@rhyta.com",
         "Laurent Dagenais",
         "M",
         "6247"
        ],
        [
         "1",
         "1",
         "GuyMarois@fleckens.hu",
         "Guy Marois",
         "M",
         "28707"
        ],
        [
         "2",
         "2",
         "BeaufortLesage@einrot.com",
         "Beaufort Lesage",
         "M",
         "21868"
        ],
        [
         "3",
         "3",
         "RussellDurand@armyspy.com",
         "Russell Durand",
         "M",
         "27523"
        ],
        [
         "4",
         "4",
         "AlexisRiel@rhyta.com",
         "Alexis Riel",
         "M",
         "24574"
        ],
        [
         "5",
         "5",
         "LeonLapresse@cuvox.de",
         "Leon Lapresse",
         "M",
         "8358"
        ],
        [
         "6",
         "6",
         "OrvilleRouthier@gustr.com",
         "Orville Routhier",
         "M",
         "13171"
        ],
        [
         "7",
         "7",
         "AgramantPepin@dayrep.com",
         "Agramant Pepin",
         "M",
         "12606"
        ],
        [
         "8",
         "8",
         "AiglentinaLambert@fleckens.hu",
         "Aiglentina Lambert",
         "F",
         "5945"
        ],
        [
         "9",
         "9",
         "TheodoreClavet@teleworm.us",
         "Theodore Clavet",
         "M",
         "27974"
        ],
        [
         "10",
         "10",
         "ByronLefebvre@jourrapide.com",
         "Byron Lefebvre",
         "M",
         "18438"
        ],
        [
         "11",
         "11",
         "FlorusDevoe@einrot.com",
         "Florus Devoe",
         "M",
         "14040"
        ],
        [
         "12",
         "12",
         "NormandArsenault@armyspy.com",
         "Normand Arsenault",
         "M",
         "19452"
        ],
        [
         "13",
         "13",
         "AcelineHughes@jourrapide.com",
         "Aceline Hughes",
         "F",
         "20193"
        ],
        [
         "14",
         "14",
         "GastonBrisette@superrito.com",
         "Gaston Brisette",
         "M",
         "5379"
        ],
        [
         "15",
         "15",
         "AgateGrandbois@gustr.com",
         "Agate Grandbois",
         "F",
         "16760"
        ],
        [
         "16",
         "16",
         "AgricanFoucault@jourrapide.com",
         "Agrican Foucault",
         "M",
         "2942"
        ],
        [
         "17",
         "17",
         "PrunellaJosseaume@armyspy.com",
         "Prunella Josseaume",
         "F",
         "20570"
        ],
        [
         "18",
         "18",
         "YseultCharest@armyspy.com",
         "Yseult Charest",
         "F",
         "12338"
        ],
        [
         "19",
         "19",
         "DorotheeAupry@cuvox.de",
         "Dorothee Aupry",
         "F",
         "8403"
        ],
        [
         "20",
         "20",
         "AmauryReault@teleworm.us",
         "Amaury Reault",
         "M",
         "16570"
        ],
        [
         "21",
         "21",
         "GillesBeauchamps@superrito.com",
         "Gilles Beauchamps",
         "M",
         "24612"
        ],
        [
         "22",
         "22",
         "FranckDumont@gustr.com",
         "Franck Dumont",
         "M",
         "18601"
        ],
        [
         "23",
         "23",
         "DelmareLHeureux@dayrep.com",
         "Delmare L Heureux",
         "F",
         "5327"
        ],
        [
         "24",
         "24",
         "AlphonseCantin@cuvox.de",
         "Alphonse Cantin",
         "M",
         "18181"
        ],
        [
         "25",
         "25",
         "BlondelleRochon@gustr.com",
         "Blondelle Rochon",
         "F",
         "11700"
        ],
        [
         "26",
         "26",
         "SavilleBernard@armyspy.com",
         "Saville Bernard",
         "M",
         "1547"
        ],
        [
         "27",
         "27",
         "AnnetteJolicoeur@armyspy.com",
         "Annette Jolicoeur",
         "F",
         "19680"
        ],
        [
         "28",
         "28",
         "BradamateMichel@armyspy.com",
         "Bradamate Michel",
         "F",
         "10018"
        ],
        [
         "29",
         "29",
         "HilaireFrappier@armyspy.com",
         "Hilaire Frappier",
         "F",
         "8384"
        ],
        [
         "30",
         "30",
         "MarieBriard@gustr.com",
         "Marie Briard",
         "F",
         "23417"
        ],
        [
         "31",
         "31",
         "MadeleineBatard@superrito.com",
         "Madeleine Batard",
         "F",
         "17194"
        ],
        [
         "32",
         "32",
         "ArberGarcia@dayrep.com",
         "Arber Garcia",
         "M",
         "784"
        ],
        [
         "33",
         "33",
         "SaberViens@superrito.com",
         "Saber Viens",
         "M",
         "25558"
        ],
        [
         "34",
         "34",
         "ArnaudDubois@rhyta.com",
         "Arnaud Dubois",
         "M",
         "17358"
        ],
        [
         "35",
         "35",
         "PryorBeauchamp@dayrep.com",
         "Pryor Beauchamp",
         "M",
         "9825"
        ],
        [
         "36",
         "36",
         "AlphonsePotvin@armyspy.com",
         "Alphonse Potvin",
         "M",
         "13419"
        ],
        [
         "37",
         "37",
         "FitzLafontaine@dayrep.com",
         "Fitz Lafontaine",
         "M",
         "23169"
        ],
        [
         "38",
         "38",
         "DelmareLamothe@gustr.com",
         "Delmare Lamothe",
         "F",
         "12345"
        ],
        [
         "39",
         "39",
         "DaisiBoileau@jourrapide.com",
         "Daisi Boileau",
         "F",
         "14197"
        ],
        [
         "40",
         "40",
         "SomerPaquette@jourrapide.com",
         "Somer Paquette",
         "M",
         "3675"
        ],
        [
         "41",
         "41",
         "OlivieCourtemanche@armyspy.com",
         "Olivie Courtemanche",
         "F",
         "24416"
        ],
        [
         "42",
         "42",
         "GermainHughes@teleworm.us",
         "Germain Hughes",
         "M",
         "8296"
        ],
        [
         "43",
         "43",
         "MorganaBellemare@superrito.com",
         "Morgana Bellemare",
         "F",
         "5154"
        ],
        [
         "44",
         "44",
         "MerciMorin@gustr.com",
         "Merci Morin",
         "F",
         "17871"
        ],
        [
         "45",
         "45",
         "VerneyBedard@dayrep.com",
         "Verney Bedard",
         "M",
         "15107"
        ],
        [
         "46",
         "46",
         "IgnaceAudibert@armyspy.com",
         "Ignace Audibert",
         "M",
         "9128"
        ],
        [
         "47",
         "47",
         "FranckBinet@superrito.com",
         "Franck Binet",
         "M",
         "1258"
        ],
        [
         "48",
         "48",
         "SumnerRocheleau@einrot.com",
         "Sumner Rocheleau",
         "M",
         "404"
        ],
        [
         "49",
         "49",
         "AubertPatel@armyspy.com",
         "Aubert Patel",
         "M",
         "27741"
        ]
       ],
       "shape": {
        "columns": 5,
        "rows": 228
       }
      },
      "text/html": [
       "<div>\n",
       "<style scoped>\n",
       "    .dataframe tbody tr th:only-of-type {\n",
       "        vertical-align: middle;\n",
       "    }\n",
       "\n",
       "    .dataframe tbody tr th {\n",
       "        vertical-align: top;\n",
       "    }\n",
       "\n",
       "    .dataframe thead th {\n",
       "        text-align: right;\n",
       "    }\n",
       "</style>\n",
       "<table border=\"1\" class=\"dataframe\">\n",
       "  <thead>\n",
       "    <tr style=\"text-align: right;\">\n",
       "      <th></th>\n",
       "      <th>ID</th>\n",
       "      <th>email</th>\n",
       "      <th>nom</th>\n",
       "      <th>genre</th>\n",
       "      <th>salairebase</th>\n",
       "    </tr>\n",
       "  </thead>\n",
       "  <tbody>\n",
       "    <tr>\n",
       "      <th>0</th>\n",
       "      <td>0</td>\n",
       "      <td>LaurentDagenais@rhyta.com</td>\n",
       "      <td>Laurent Dagenais</td>\n",
       "      <td>M</td>\n",
       "      <td>6247</td>\n",
       "    </tr>\n",
       "    <tr>\n",
       "      <th>1</th>\n",
       "      <td>1</td>\n",
       "      <td>GuyMarois@fleckens.hu</td>\n",
       "      <td>Guy Marois</td>\n",
       "      <td>M</td>\n",
       "      <td>28707</td>\n",
       "    </tr>\n",
       "    <tr>\n",
       "      <th>2</th>\n",
       "      <td>2</td>\n",
       "      <td>BeaufortLesage@einrot.com</td>\n",
       "      <td>Beaufort Lesage</td>\n",
       "      <td>M</td>\n",
       "      <td>21868</td>\n",
       "    </tr>\n",
       "    <tr>\n",
       "      <th>3</th>\n",
       "      <td>3</td>\n",
       "      <td>RussellDurand@armyspy.com</td>\n",
       "      <td>Russell Durand</td>\n",
       "      <td>M</td>\n",
       "      <td>27523</td>\n",
       "    </tr>\n",
       "    <tr>\n",
       "      <th>4</th>\n",
       "      <td>4</td>\n",
       "      <td>AlexisRiel@rhyta.com</td>\n",
       "      <td>Alexis Riel</td>\n",
       "      <td>M</td>\n",
       "      <td>24574</td>\n",
       "    </tr>\n",
       "    <tr>\n",
       "      <th>...</th>\n",
       "      <td>...</td>\n",
       "      <td>...</td>\n",
       "      <td>...</td>\n",
       "      <td>...</td>\n",
       "      <td>...</td>\n",
       "    </tr>\n",
       "    <tr>\n",
       "      <th>223</th>\n",
       "      <td>223</td>\n",
       "      <td>ClaudeDandonneau@jourrapide.com</td>\n",
       "      <td>Claude Dandonneau</td>\n",
       "      <td>F</td>\n",
       "      <td>13454</td>\n",
       "    </tr>\n",
       "    <tr>\n",
       "      <th>224</th>\n",
       "      <td>224</td>\n",
       "      <td>ApollineMichaud@superrito.com</td>\n",
       "      <td>Apolline Michaud</td>\n",
       "      <td>F</td>\n",
       "      <td>4708</td>\n",
       "    </tr>\n",
       "    <tr>\n",
       "      <th>225</th>\n",
       "      <td>225</td>\n",
       "      <td>PascalineBeaudry@rhyta.com</td>\n",
       "      <td>Pascaline Beaudry</td>\n",
       "      <td>F</td>\n",
       "      <td>7342</td>\n",
       "    </tr>\n",
       "    <tr>\n",
       "      <th>226</th>\n",
       "      <td>226</td>\n",
       "      <td>FleurCaouette@jourrapide.com</td>\n",
       "      <td>Fleur Caouette</td>\n",
       "      <td>F</td>\n",
       "      <td>11901</td>\n",
       "    </tr>\n",
       "    <tr>\n",
       "      <th>227</th>\n",
       "      <td>227</td>\n",
       "      <td>FrancisMasse@jourrapide.com</td>\n",
       "      <td>Francis Masse</td>\n",
       "      <td>M</td>\n",
       "      <td>3217</td>\n",
       "    </tr>\n",
       "  </tbody>\n",
       "</table>\n",
       "<p>228 rows × 5 columns</p>\n",
       "</div>"
      ],
      "text/plain": [
       "      ID                            email                nom genre  \\\n",
       "0      0        LaurentDagenais@rhyta.com   Laurent Dagenais     M   \n",
       "1      1            GuyMarois@fleckens.hu         Guy Marois     M   \n",
       "2      2        BeaufortLesage@einrot.com    Beaufort Lesage     M   \n",
       "3      3        RussellDurand@armyspy.com     Russell Durand     M   \n",
       "4      4             AlexisRiel@rhyta.com        Alexis Riel     M   \n",
       "..   ...                              ...                ...   ...   \n",
       "223  223  ClaudeDandonneau@jourrapide.com  Claude Dandonneau     F   \n",
       "224  224    ApollineMichaud@superrito.com   Apolline Michaud     F   \n",
       "225  225       PascalineBeaudry@rhyta.com  Pascaline Beaudry     F   \n",
       "226  226     FleurCaouette@jourrapide.com     Fleur Caouette     F   \n",
       "227  227      FrancisMasse@jourrapide.com      Francis Masse     M   \n",
       "\n",
       "     salairebase  \n",
       "0           6247  \n",
       "1          28707  \n",
       "2          21868  \n",
       "3          27523  \n",
       "4          24574  \n",
       "..           ...  \n",
       "223        13454  \n",
       "224         4708  \n",
       "225         7342  \n",
       "226        11901  \n",
       "227         3217  \n",
       "\n",
       "[228 rows x 5 columns]"
      ]
     },
     "metadata": {},
     "output_type": "display_data"
    }
   ],
   "source": [
    "n = datajson.rename(columns={'identifiant' : 'ID'} , inplace= True)\n",
    "display(n)\n",
    "display(datajson)"
   ]
  },
  {
   "cell_type": "code",
   "execution_count": 17,
   "metadata": {},
   "outputs": [
    {
     "data": {
      "text/plain": [
       "np.int64(3236687)"
      ]
     },
     "metadata": {},
     "output_type": "display_data"
    }
   ],
   "source": [
    "sumsalaire = datajson['salairebase'].sum()\n",
    "display(sumsalaire)"
   ]
  },
  {
   "cell_type": "code",
   "execution_count": 18,
   "metadata": {},
   "outputs": [
    {
     "data": {
      "text/plain": [
       "14195"
      ]
     },
     "metadata": {},
     "output_type": "display_data"
    }
   ],
   "source": [
    "sumsalaire = datajson['salairebase'].mean()\n",
    "display(int(sumsalaire))"
   ]
  },
  {
   "cell_type": "code",
   "execution_count": 19,
   "metadata": {},
   "outputs": [
    {
     "data": {
      "text/plain": [
       "genre  nom               \n",
       "F      Aceline Hughes        20193\n",
       "       Adelaide Brousse       9552\n",
       "       Adele Clavette         4323\n",
       "       Agate Grandbois       16760\n",
       "       Agnes Briard          13156\n",
       "                             ...  \n",
       "M      Verney Course         17241\n",
       "       Vick David            24247\n",
       "       Xarles Caisse         28029\n",
       "       Zacharie Duplessis     7138\n",
       "       Zdenek Vadnais        13661\n",
       "Name: salairebase, Length: 228, dtype: int32"
      ]
     },
     "execution_count": 19,
     "metadata": {},
     "output_type": "execute_result"
    }
   ],
   "source": [
    "datajson.groupby(['genre', 'nom'])['salairebase'].sum()"
   ]
  },
  {
   "cell_type": "code",
   "execution_count": 20,
   "metadata": {},
   "outputs": [
    {
     "data": {
      "application/vnd.microsoft.datawrangler.viewer.v0+json": {
       "columns": [
        {
         "name": "nom",
         "rawType": "object",
         "type": "string"
        },
        {
         "name": "F",
         "rawType": "float64",
         "type": "float"
        },
        {
         "name": "M",
         "rawType": "float64",
         "type": "float"
        }
       ],
       "conversionMethod": "pd.DataFrame",
       "ref": "7c8db821-d981-423f-afca-3f097247543c",
       "rows": [
        [
         "Aceline Hughes",
         "20193.0",
         null
        ],
        [
         "Adelaide Brousse",
         "9552.0",
         null
        ],
        [
         "Adele Clavette",
         "4323.0",
         null
        ],
        [
         "Agate Grandbois",
         "16760.0",
         null
        ],
        [
         "Agnes Briard",
         "13156.0",
         null
        ],
        [
         "Agramant Grandpre",
         null,
         "5179.0"
        ],
        [
         "Agramant Pepin",
         null,
         "12606.0"
        ],
        [
         "Agrican Foucault",
         null,
         "2942.0"
        ],
        [
         "Aiglentina Lambert",
         "5945.0",
         null
        ],
        [
         "Aiglentina Marcheterre",
         "19567.0",
         null
        ],
        [
         "Aime Marseau",
         null,
         "18262.0"
        ],
        [
         "Alaine Hervieux",
         "27473.0",
         null
        ],
        [
         "Aleron Berard",
         null,
         "21592.0"
        ],
        [
         "Alexis Lagrange",
         null,
         "3331.0"
        ],
        [
         "Alexis Riel",
         null,
         "24574.0"
        ],
        [
         "Allyriane Racine",
         "23619.0",
         null
        ],
        [
         "Alphonse Cantin",
         null,
         "18181.0"
        ],
        [
         "Alphonse Potvin",
         null,
         "13419.0"
        ],
        [
         "Alphonsine Bourassa",
         "13145.0",
         null
        ],
        [
         "Alphonsine Sacre",
         "9411.0",
         null
        ],
        [
         "Amarante Lacroix",
         "21598.0",
         null
        ],
        [
         "Amaury Reault",
         null,
         "16570.0"
        ],
        [
         "Amaury Sirois",
         null,
         "2000.0"
        ],
        [
         "Anastasie Croteau",
         "1858.0",
         null
        ],
        [
         "Ancelote Desforges",
         "27745.0",
         null
        ],
        [
         "Annette Jolicoeur",
         "19680.0",
         null
        ],
        [
         "Apolline Laframboise",
         "6164.0",
         null
        ],
        [
         "Apolline Michaud",
         "4708.0",
         null
        ],
        [
         "Arber Garcia",
         null,
         "784.0"
        ],
        [
         "Arienne Cantin",
         "3801.0",
         null
        ],
        [
         "Arnaud Dubois",
         null,
         "17358.0"
        ],
        [
         "Arno Le Batelier",
         null,
         "13029.0"
        ],
        [
         "Arthur Plante",
         null,
         "121.0"
        ],
        [
         "Astolpho Veronneau",
         null,
         "27551.0"
        ],
        [
         "Astrid Jolicoeur",
         "21171.0",
         null
        ],
        [
         "Aubert Patel",
         null,
         "27741.0"
        ],
        [
         "Aubine Labelle",
         "28568.0",
         null
        ],
        [
         "Aurelie Bazinet",
         "2580.0",
         null
        ],
        [
         "Aurelie Desnoyer",
         "7121.0",
         null
        ],
        [
         "Avelaine Gadbois",
         "27426.0",
         null
        ],
        [
         "Avril Rocheleau",
         "28091.0",
         null
        ],
        [
         "Avril Sylvain",
         "990.0",
         null
        ],
        [
         "Beaufort Lesage",
         null,
         "21868.0"
        ],
        [
         "Belda Lauzier",
         "9601.0",
         null
        ],
        [
         "Belisarda Guedry",
         "24315.0",
         null
        ],
        [
         "Benjamin Labrie",
         null,
         "23523.0"
        ],
        [
         "Benoit Gauvin",
         null,
         "1759.0"
        ],
        [
         "Blondelle Ailleboust",
         "27160.0",
         null
        ],
        [
         "Blondelle Rochon",
         "11700.0",
         null
        ],
        [
         "Bradamate Michel",
         "10018.0",
         null
        ]
       ],
       "shape": {
        "columns": 2,
        "rows": 228
       }
      },
      "text/html": [
       "<div>\n",
       "<style scoped>\n",
       "    .dataframe tbody tr th:only-of-type {\n",
       "        vertical-align: middle;\n",
       "    }\n",
       "\n",
       "    .dataframe tbody tr th {\n",
       "        vertical-align: top;\n",
       "    }\n",
       "\n",
       "    .dataframe thead th {\n",
       "        text-align: right;\n",
       "    }\n",
       "</style>\n",
       "<table border=\"1\" class=\"dataframe\">\n",
       "  <thead>\n",
       "    <tr style=\"text-align: right;\">\n",
       "      <th>genre</th>\n",
       "      <th>F</th>\n",
       "      <th>M</th>\n",
       "    </tr>\n",
       "    <tr>\n",
       "      <th>nom</th>\n",
       "      <th></th>\n",
       "      <th></th>\n",
       "    </tr>\n",
       "  </thead>\n",
       "  <tbody>\n",
       "    <tr>\n",
       "      <th>Aceline Hughes</th>\n",
       "      <td>20193.0</td>\n",
       "      <td>NaN</td>\n",
       "    </tr>\n",
       "    <tr>\n",
       "      <th>Adelaide Brousse</th>\n",
       "      <td>9552.0</td>\n",
       "      <td>NaN</td>\n",
       "    </tr>\n",
       "    <tr>\n",
       "      <th>Adele Clavette</th>\n",
       "      <td>4323.0</td>\n",
       "      <td>NaN</td>\n",
       "    </tr>\n",
       "    <tr>\n",
       "      <th>Agate Grandbois</th>\n",
       "      <td>16760.0</td>\n",
       "      <td>NaN</td>\n",
       "    </tr>\n",
       "    <tr>\n",
       "      <th>Agnes Briard</th>\n",
       "      <td>13156.0</td>\n",
       "      <td>NaN</td>\n",
       "    </tr>\n",
       "    <tr>\n",
       "      <th>...</th>\n",
       "      <td>...</td>\n",
       "      <td>...</td>\n",
       "    </tr>\n",
       "    <tr>\n",
       "      <th>Yvette D Avis</th>\n",
       "      <td>6312.0</td>\n",
       "      <td>NaN</td>\n",
       "    </tr>\n",
       "    <tr>\n",
       "      <th>Zacharie Duplessis</th>\n",
       "      <td>NaN</td>\n",
       "      <td>7138.0</td>\n",
       "    </tr>\n",
       "    <tr>\n",
       "      <th>Zdenek Vadnais</th>\n",
       "      <td>NaN</td>\n",
       "      <td>13661.0</td>\n",
       "    </tr>\n",
       "    <tr>\n",
       "      <th>Zoe Leclair</th>\n",
       "      <td>17951.0</td>\n",
       "      <td>NaN</td>\n",
       "    </tr>\n",
       "    <tr>\n",
       "      <th>Zurie Theberge</th>\n",
       "      <td>11694.0</td>\n",
       "      <td>NaN</td>\n",
       "    </tr>\n",
       "  </tbody>\n",
       "</table>\n",
       "<p>228 rows × 2 columns</p>\n",
       "</div>"
      ],
      "text/plain": [
       "genre                     F        M\n",
       "nom                                 \n",
       "Aceline Hughes      20193.0      NaN\n",
       "Adelaide Brousse     9552.0      NaN\n",
       "Adele Clavette       4323.0      NaN\n",
       "Agate Grandbois     16760.0      NaN\n",
       "Agnes Briard        13156.0      NaN\n",
       "...                     ...      ...\n",
       "Yvette D Avis        6312.0      NaN\n",
       "Zacharie Duplessis      NaN   7138.0\n",
       "Zdenek Vadnais          NaN  13661.0\n",
       "Zoe Leclair         17951.0      NaN\n",
       "Zurie Theberge      11694.0      NaN\n",
       "\n",
       "[228 rows x 2 columns]"
      ]
     },
     "execution_count": 20,
     "metadata": {},
     "output_type": "execute_result"
    }
   ],
   "source": [
    "datajson.pivot_table(index='nom', columns = 'genre', values= 'salairebase', aggfunc= 'sum')\n",
    "\n",
    "#data.head()"
   ]
  },
  {
   "cell_type": "code",
   "execution_count": 21,
   "metadata": {},
   "outputs": [
    {
     "data": {
      "application/vnd.microsoft.datawrangler.viewer.v0+json": {
       "columns": [
        {
         "name": "index",
         "rawType": "int64",
         "type": "integer"
        },
        {
         "name": "ID",
         "rawType": "int64",
         "type": "integer"
        },
        {
         "name": "email",
         "rawType": "object",
         "type": "string"
        },
        {
         "name": "nom",
         "rawType": "object",
         "type": "string"
        },
        {
         "name": "genre",
         "rawType": "object",
         "type": "string"
        },
        {
         "name": "salairebase",
         "rawType": "int32",
         "type": "integer"
        }
       ],
       "conversionMethod": "pd.DataFrame",
       "ref": "0706d68a-6014-443c-9b3f-92d5c29d0905",
       "rows": [
        [
         "0",
         "0",
         "LaurentDagenais@rhyta.com",
         "Laurent Dagenais",
         "M",
         "6247"
        ],
        [
         "1",
         "1",
         "GuyMarois@fleckens.hu",
         "Guy Marois",
         "M",
         "28707"
        ],
        [
         "2",
         "2",
         "BeaufortLesage@einrot.com",
         "Beaufort Lesage",
         "M",
         "21868"
        ],
        [
         "3",
         "3",
         "RussellDurand@armyspy.com",
         "Russell Durand",
         "M",
         "27523"
        ],
        [
         "4",
         "4",
         "AlexisRiel@rhyta.com",
         "Alexis Riel",
         "M",
         "24574"
        ],
        [
         "5",
         "5",
         "LeonLapresse@cuvox.de",
         "Leon Lapresse",
         "M",
         "8358"
        ],
        [
         "6",
         "6",
         "OrvilleRouthier@gustr.com",
         "Orville Routhier",
         "M",
         "13171"
        ],
        [
         "7",
         "7",
         "AgramantPepin@dayrep.com",
         "Agramant Pepin",
         "M",
         "12606"
        ],
        [
         "8",
         "8",
         "AiglentinaLambert@fleckens.hu",
         "Aiglentina Lambert",
         "F",
         "5945"
        ],
        [
         "9",
         "9",
         "TheodoreClavet@teleworm.us",
         "Theodore Clavet",
         "M",
         "27974"
        ],
        [
         "10",
         "10",
         "ByronLefebvre@jourrapide.com",
         "Byron Lefebvre",
         "M",
         "18438"
        ],
        [
         "11",
         "11",
         "FlorusDevoe@einrot.com",
         "Florus Devoe",
         "M",
         "14040"
        ],
        [
         "12",
         "12",
         "NormandArsenault@armyspy.com",
         "Normand Arsenault",
         "M",
         "19452"
        ],
        [
         "13",
         "13",
         "AcelineHughes@jourrapide.com",
         "Aceline Hughes",
         "F",
         "20193"
        ],
        [
         "14",
         "14",
         "GastonBrisette@superrito.com",
         "Gaston Brisette",
         "M",
         "5379"
        ],
        [
         "15",
         "15",
         "AgateGrandbois@gustr.com",
         "Agate Grandbois",
         "F",
         "16760"
        ],
        [
         "17",
         "17",
         "PrunellaJosseaume@armyspy.com",
         "Prunella Josseaume",
         "F",
         "20570"
        ],
        [
         "18",
         "18",
         "YseultCharest@armyspy.com",
         "Yseult Charest",
         "F",
         "12338"
        ],
        [
         "19",
         "19",
         "DorotheeAupry@cuvox.de",
         "Dorothee Aupry",
         "F",
         "8403"
        ],
        [
         "20",
         "20",
         "AmauryReault@teleworm.us",
         "Amaury Reault",
         "M",
         "16570"
        ],
        [
         "21",
         "21",
         "GillesBeauchamps@superrito.com",
         "Gilles Beauchamps",
         "M",
         "24612"
        ],
        [
         "22",
         "22",
         "FranckDumont@gustr.com",
         "Franck Dumont",
         "M",
         "18601"
        ],
        [
         "23",
         "23",
         "DelmareLHeureux@dayrep.com",
         "Delmare L Heureux",
         "F",
         "5327"
        ],
        [
         "24",
         "24",
         "AlphonseCantin@cuvox.de",
         "Alphonse Cantin",
         "M",
         "18181"
        ],
        [
         "25",
         "25",
         "BlondelleRochon@gustr.com",
         "Blondelle Rochon",
         "F",
         "11700"
        ],
        [
         "27",
         "27",
         "AnnetteJolicoeur@armyspy.com",
         "Annette Jolicoeur",
         "F",
         "19680"
        ],
        [
         "28",
         "28",
         "BradamateMichel@armyspy.com",
         "Bradamate Michel",
         "F",
         "10018"
        ],
        [
         "29",
         "29",
         "HilaireFrappier@armyspy.com",
         "Hilaire Frappier",
         "F",
         "8384"
        ],
        [
         "30",
         "30",
         "MarieBriard@gustr.com",
         "Marie Briard",
         "F",
         "23417"
        ],
        [
         "31",
         "31",
         "MadeleineBatard@superrito.com",
         "Madeleine Batard",
         "F",
         "17194"
        ],
        [
         "33",
         "33",
         "SaberViens@superrito.com",
         "Saber Viens",
         "M",
         "25558"
        ],
        [
         "34",
         "34",
         "ArnaudDubois@rhyta.com",
         "Arnaud Dubois",
         "M",
         "17358"
        ],
        [
         "35",
         "35",
         "PryorBeauchamp@dayrep.com",
         "Pryor Beauchamp",
         "M",
         "9825"
        ],
        [
         "36",
         "36",
         "AlphonsePotvin@armyspy.com",
         "Alphonse Potvin",
         "M",
         "13419"
        ],
        [
         "37",
         "37",
         "FitzLafontaine@dayrep.com",
         "Fitz Lafontaine",
         "M",
         "23169"
        ],
        [
         "38",
         "38",
         "DelmareLamothe@gustr.com",
         "Delmare Lamothe",
         "F",
         "12345"
        ],
        [
         "39",
         "39",
         "DaisiBoileau@jourrapide.com",
         "Daisi Boileau",
         "F",
         "14197"
        ],
        [
         "41",
         "41",
         "OlivieCourtemanche@armyspy.com",
         "Olivie Courtemanche",
         "F",
         "24416"
        ],
        [
         "42",
         "42",
         "GermainHughes@teleworm.us",
         "Germain Hughes",
         "M",
         "8296"
        ],
        [
         "43",
         "43",
         "MorganaBellemare@superrito.com",
         "Morgana Bellemare",
         "F",
         "5154"
        ],
        [
         "44",
         "44",
         "MerciMorin@gustr.com",
         "Merci Morin",
         "F",
         "17871"
        ],
        [
         "45",
         "45",
         "VerneyBedard@dayrep.com",
         "Verney Bedard",
         "M",
         "15107"
        ],
        [
         "46",
         "46",
         "IgnaceAudibert@armyspy.com",
         "Ignace Audibert",
         "M",
         "9128"
        ],
        [
         "49",
         "49",
         "AubertPatel@armyspy.com",
         "Aubert Patel",
         "M",
         "27741"
        ],
        [
         "50",
         "50",
         "SumnerLaprise@superrito.com",
         "Sumner Laprise",
         "M",
         "17303"
        ],
        [
         "51",
         "51",
         "MadeleineLeveille@dayrep.com",
         "Madeleine Leveille",
         "F",
         "12201"
        ],
        [
         "52",
         "52",
         "BelisardaGuedry@dayrep.com",
         "Belisarda Guedry",
         "F",
         "24315"
        ],
        [
         "53",
         "53",
         "ZurieTheberge@gustr.com",
         "Zurie Theberge",
         "F",
         "11694"
        ],
        [
         "54",
         "54",
         "ErmengardiBousquet@dayrep.com",
         "Ermengardi Bousquet",
         "F",
         "20245"
        ],
        [
         "55",
         "55",
         "FlorenceBeaudoin@einrot.com",
         "Florence Beaudoin",
         "F",
         "6668"
        ]
       ],
       "shape": {
        "columns": 5,
        "rows": 190
       }
      },
      "text/html": [
       "<div>\n",
       "<style scoped>\n",
       "    .dataframe tbody tr th:only-of-type {\n",
       "        vertical-align: middle;\n",
       "    }\n",
       "\n",
       "    .dataframe tbody tr th {\n",
       "        vertical-align: top;\n",
       "    }\n",
       "\n",
       "    .dataframe thead th {\n",
       "        text-align: right;\n",
       "    }\n",
       "</style>\n",
       "<table border=\"1\" class=\"dataframe\">\n",
       "  <thead>\n",
       "    <tr style=\"text-align: right;\">\n",
       "      <th></th>\n",
       "      <th>ID</th>\n",
       "      <th>email</th>\n",
       "      <th>nom</th>\n",
       "      <th>genre</th>\n",
       "      <th>salairebase</th>\n",
       "    </tr>\n",
       "  </thead>\n",
       "  <tbody>\n",
       "    <tr>\n",
       "      <th>0</th>\n",
       "      <td>0</td>\n",
       "      <td>LaurentDagenais@rhyta.com</td>\n",
       "      <td>Laurent Dagenais</td>\n",
       "      <td>M</td>\n",
       "      <td>6247</td>\n",
       "    </tr>\n",
       "    <tr>\n",
       "      <th>1</th>\n",
       "      <td>1</td>\n",
       "      <td>GuyMarois@fleckens.hu</td>\n",
       "      <td>Guy Marois</td>\n",
       "      <td>M</td>\n",
       "      <td>28707</td>\n",
       "    </tr>\n",
       "    <tr>\n",
       "      <th>2</th>\n",
       "      <td>2</td>\n",
       "      <td>BeaufortLesage@einrot.com</td>\n",
       "      <td>Beaufort Lesage</td>\n",
       "      <td>M</td>\n",
       "      <td>21868</td>\n",
       "    </tr>\n",
       "    <tr>\n",
       "      <th>3</th>\n",
       "      <td>3</td>\n",
       "      <td>RussellDurand@armyspy.com</td>\n",
       "      <td>Russell Durand</td>\n",
       "      <td>M</td>\n",
       "      <td>27523</td>\n",
       "    </tr>\n",
       "    <tr>\n",
       "      <th>4</th>\n",
       "      <td>4</td>\n",
       "      <td>AlexisRiel@rhyta.com</td>\n",
       "      <td>Alexis Riel</td>\n",
       "      <td>M</td>\n",
       "      <td>24574</td>\n",
       "    </tr>\n",
       "    <tr>\n",
       "      <th>...</th>\n",
       "      <td>...</td>\n",
       "      <td>...</td>\n",
       "      <td>...</td>\n",
       "      <td>...</td>\n",
       "      <td>...</td>\n",
       "    </tr>\n",
       "    <tr>\n",
       "      <th>221</th>\n",
       "      <td>221</td>\n",
       "      <td>JosetteBordeleau@einrot.com</td>\n",
       "      <td>Josette Bordeleau</td>\n",
       "      <td>F</td>\n",
       "      <td>5621</td>\n",
       "    </tr>\n",
       "    <tr>\n",
       "      <th>222</th>\n",
       "      <td>222</td>\n",
       "      <td>LangleyCaron@armyspy.com</td>\n",
       "      <td>Langley Caron</td>\n",
       "      <td>M</td>\n",
       "      <td>24177</td>\n",
       "    </tr>\n",
       "    <tr>\n",
       "      <th>223</th>\n",
       "      <td>223</td>\n",
       "      <td>ClaudeDandonneau@jourrapide.com</td>\n",
       "      <td>Claude Dandonneau</td>\n",
       "      <td>F</td>\n",
       "      <td>13454</td>\n",
       "    </tr>\n",
       "    <tr>\n",
       "      <th>225</th>\n",
       "      <td>225</td>\n",
       "      <td>PascalineBeaudry@rhyta.com</td>\n",
       "      <td>Pascaline Beaudry</td>\n",
       "      <td>F</td>\n",
       "      <td>7342</td>\n",
       "    </tr>\n",
       "    <tr>\n",
       "      <th>226</th>\n",
       "      <td>226</td>\n",
       "      <td>FleurCaouette@jourrapide.com</td>\n",
       "      <td>Fleur Caouette</td>\n",
       "      <td>F</td>\n",
       "      <td>11901</td>\n",
       "    </tr>\n",
       "  </tbody>\n",
       "</table>\n",
       "<p>190 rows × 5 columns</p>\n",
       "</div>"
      ],
      "text/plain": [
       "      ID                            email                nom genre  \\\n",
       "0      0        LaurentDagenais@rhyta.com   Laurent Dagenais     M   \n",
       "1      1            GuyMarois@fleckens.hu         Guy Marois     M   \n",
       "2      2        BeaufortLesage@einrot.com    Beaufort Lesage     M   \n",
       "3      3        RussellDurand@armyspy.com     Russell Durand     M   \n",
       "4      4             AlexisRiel@rhyta.com        Alexis Riel     M   \n",
       "..   ...                              ...                ...   ...   \n",
       "221  221      JosetteBordeleau@einrot.com  Josette Bordeleau     F   \n",
       "222  222         LangleyCaron@armyspy.com      Langley Caron     M   \n",
       "223  223  ClaudeDandonneau@jourrapide.com  Claude Dandonneau     F   \n",
       "225  225       PascalineBeaudry@rhyta.com  Pascaline Beaudry     F   \n",
       "226  226     FleurCaouette@jourrapide.com     Fleur Caouette     F   \n",
       "\n",
       "     salairebase  \n",
       "0           6247  \n",
       "1          28707  \n",
       "2          21868  \n",
       "3          27523  \n",
       "4          24574  \n",
       "..           ...  \n",
       "221         5621  \n",
       "222        24177  \n",
       "223        13454  \n",
       "225         7342  \n",
       "226        11901  \n",
       "\n",
       "[190 rows x 5 columns]"
      ]
     },
     "metadata": {},
     "output_type": "display_data"
    }
   ],
   "source": [
    "trie = datajson.loc[datajson['salairebase'] > 5000 , :]\n",
    "display(trie)"
   ]
  },
  {
   "cell_type": "code",
   "execution_count": 22,
   "metadata": {},
   "outputs": [
    {
     "data": {
      "application/vnd.microsoft.datawrangler.viewer.v0+json": {
       "columns": [
        {
         "name": "index",
         "rawType": "int64",
         "type": "integer"
        },
        {
         "name": "ID",
         "rawType": "int64",
         "type": "integer"
        },
        {
         "name": "email",
         "rawType": "object",
         "type": "string"
        },
        {
         "name": "nom",
         "rawType": "object",
         "type": "string"
        },
        {
         "name": "genre",
         "rawType": "object",
         "type": "string"
        },
        {
         "name": "salairebase",
         "rawType": "int32",
         "type": "integer"
        }
       ],
       "conversionMethod": "pd.DataFrame",
       "ref": "6c2d2cc7-1304-4a2d-acfe-8f7995e2279c",
       "rows": [
        [
         "1",
         "1",
         "GuyMarois@fleckens.hu",
         "Guy Marois",
         "M",
         "28707"
        ],
        [
         "2",
         "2",
         "BeaufortLesage@einrot.com",
         "Beaufort Lesage",
         "M",
         "21868"
        ],
        [
         "3",
         "3",
         "RussellDurand@armyspy.com",
         "Russell Durand",
         "M",
         "27523"
        ],
        [
         "4",
         "4",
         "AlexisRiel@rhyta.com",
         "Alexis Riel",
         "M",
         "24574"
        ],
        [
         "6",
         "6",
         "OrvilleRouthier@gustr.com",
         "Orville Routhier",
         "M",
         "13171"
        ]
       ],
       "shape": {
        "columns": 5,
        "rows": 5
       }
      },
      "text/html": [
       "<div>\n",
       "<style scoped>\n",
       "    .dataframe tbody tr th:only-of-type {\n",
       "        vertical-align: middle;\n",
       "    }\n",
       "\n",
       "    .dataframe tbody tr th {\n",
       "        vertical-align: top;\n",
       "    }\n",
       "\n",
       "    .dataframe thead th {\n",
       "        text-align: right;\n",
       "    }\n",
       "</style>\n",
       "<table border=\"1\" class=\"dataframe\">\n",
       "  <thead>\n",
       "    <tr style=\"text-align: right;\">\n",
       "      <th></th>\n",
       "      <th>ID</th>\n",
       "      <th>email</th>\n",
       "      <th>nom</th>\n",
       "      <th>genre</th>\n",
       "      <th>salairebase</th>\n",
       "    </tr>\n",
       "  </thead>\n",
       "  <tbody>\n",
       "    <tr>\n",
       "      <th>1</th>\n",
       "      <td>1</td>\n",
       "      <td>GuyMarois@fleckens.hu</td>\n",
       "      <td>Guy Marois</td>\n",
       "      <td>M</td>\n",
       "      <td>28707</td>\n",
       "    </tr>\n",
       "    <tr>\n",
       "      <th>2</th>\n",
       "      <td>2</td>\n",
       "      <td>BeaufortLesage@einrot.com</td>\n",
       "      <td>Beaufort Lesage</td>\n",
       "      <td>M</td>\n",
       "      <td>21868</td>\n",
       "    </tr>\n",
       "    <tr>\n",
       "      <th>3</th>\n",
       "      <td>3</td>\n",
       "      <td>RussellDurand@armyspy.com</td>\n",
       "      <td>Russell Durand</td>\n",
       "      <td>M</td>\n",
       "      <td>27523</td>\n",
       "    </tr>\n",
       "    <tr>\n",
       "      <th>4</th>\n",
       "      <td>4</td>\n",
       "      <td>AlexisRiel@rhyta.com</td>\n",
       "      <td>Alexis Riel</td>\n",
       "      <td>M</td>\n",
       "      <td>24574</td>\n",
       "    </tr>\n",
       "    <tr>\n",
       "      <th>6</th>\n",
       "      <td>6</td>\n",
       "      <td>OrvilleRouthier@gustr.com</td>\n",
       "      <td>Orville Routhier</td>\n",
       "      <td>M</td>\n",
       "      <td>13171</td>\n",
       "    </tr>\n",
       "  </tbody>\n",
       "</table>\n",
       "</div>"
      ],
      "text/plain": [
       "   ID                      email               nom genre  salairebase\n",
       "1   1      GuyMarois@fleckens.hu        Guy Marois     M        28707\n",
       "2   2  BeaufortLesage@einrot.com   Beaufort Lesage     M        21868\n",
       "3   3  RussellDurand@armyspy.com    Russell Durand     M        27523\n",
       "4   4       AlexisRiel@rhyta.com       Alexis Riel     M        24574\n",
       "6   6  OrvilleRouthier@gustr.com  Orville Routhier     M        13171"
      ]
     },
     "execution_count": 22,
     "metadata": {},
     "output_type": "execute_result"
    }
   ],
   "source": [
    "salairesupp = datajson.loc[datajson['salairebase'] > 10000]\n",
    "salairesupp.head()"
   ]
  },
  {
   "cell_type": "code",
   "execution_count": 23,
   "metadata": {},
   "outputs": [],
   "source": [
    "agg_df = datajson.groupby(by= 'genre')['salairebase'].sum().reset_index()\n",
    "\n"
   ]
  },
  {
   "cell_type": "code",
   "execution_count": 24,
   "metadata": {},
   "outputs": [
    {
     "data": {
      "text/plain": [
       "([<matplotlib.patches.Wedge at 0x2eabedc38c0>,\n",
       "  <matplotlib.patches.Wedge at 0x2eabedd7c50>],\n",
       " [Text(-0.06740697793480951, 1.0979327389807156, 'F'),\n",
       "  Text(0.06740694303535999, -1.0979327411233477, 'M')],\n",
       " [Text(-0.036767442509896095, 0.5988724030803904, '52.0%'),\n",
       "  Text(0.03676742347383272, -0.5988724042490986, '48.0%')])"
      ]
     },
     "execution_count": 24,
     "metadata": {},
     "output_type": "execute_result"
    },
    {
     "data": {
      "image/png": "[encoded data removed]",
      "text/plain": [
       "<Figure size 640x480 with 1 Axes>"
      ]
     },
     "metadata": {},
     "output_type": "display_data"
    }
   ],
   "source": [
    "plt.pie(agg_df['salairebase'], labels = agg_df['genre'], autopct='%1.1f%%')"
   ]
  }
 ],
 "metadata": {
  "kernelspec": {
   "display_name": "Python 3",
   "language": "python",
   "name": "python3"
  },
  "language_info": {
   "codemirror_mode": {
    "name": "ipython",
    "version": 3
   },
   "file_extension": ".py",
   "mimetype": "text/x-python",
   "name": "python",
   "nbconvert_exporter": "python",
   "pygments_lexer": "ipython3",
   "version": "3.13.1"
  }
 },
 "nbformat": 4,
 "nbformat_minor": 2
}
